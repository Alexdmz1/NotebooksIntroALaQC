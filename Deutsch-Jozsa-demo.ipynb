{
 "cells": [
  {
   "cell_type": "code",
   "execution_count": 3,
   "metadata": {},
   "outputs": [],
   "source": [
    "import numpy as np\n",
    "\n",
    "from qiskit import IBMQ, BasicAer\n",
    "from qiskit.providers.ibmq import least_busy\n",
    "from qiskit import QuantumCircuit, execute\n",
    "from qiskit.tools.jupyter import *\n"
   ]
  },
  {
   "cell_type": "code",
   "execution_count": 5,
   "metadata": {},
   "outputs": [],
   "source": [
    "IBMQ.save_account('5f8fd0f78d9985efd899caa627e8316048089fa84d68335f95087da7b34a38b0fb1df500c218107b57387c184f63b6ad1a2b226bd209ee1bfc1375ed47058b93')"
   ]
  },
  {
   "cell_type": "code",
   "execution_count": 6,
   "metadata": {},
   "outputs": [
    {
     "name": "stderr",
     "output_type": "stream",
     "text": [
      "/usr/local/lib/python3.9/site-packages/qiskit/providers/ibmq/ibmqfactory.py:192: UserWarning: Timestamps in IBMQ backend properties, jobs, and job results are all now in local time instead of UTC.\n",
      "  warnings.warn('Timestamps in IBMQ backend properties, jobs, and job results '\n"
     ]
    }
   ],
   "source": [
    "provider = IBMQ.load_account()"
   ]
  },
  {
   "cell_type": "code",
   "execution_count": 7,
   "metadata": {},
   "outputs": [],
   "source": [
    "from qiskit.visualization import plot_histogram"
   ]
  },
  {
   "cell_type": "code",
   "execution_count": 8,
   "metadata": {},
   "outputs": [],
   "source": [
    "def dj_oracle(case,n):\n",
    "    # Necesitamos un objeto de tipo QuantumCircuit\n",
    "    # con n+1 cubits, el argumento de entrada n + un cubit que seria el auxiliar o target\n",
    "    oracle_qc = QuantumCircuit(n+1)\n",
    "\n",
    "    # Empezamos por el caso en el que el oraculo se encuentra balanceado\n",
    "    # es decir, la mitad de los casos obtendremos 0 y la otra mitad 1\n",
    "    if case == \"balanced\":\n",
    "        # aplicamos las compuertas CNOT para cada cubit, utilizando el ultimo cubit como target\n",
    "        for qubit in range(n):\n",
    "            oracle_qc.cx(qubit,n)\n",
    "    \n",
    "    # Ahora el caso en el que el oraculo es constante\n",
    "    if case == \"constant\":\n",
    "        # Primero se debe decidir cual sera el resultado del oraculo\n",
    "        # (siempre 0 o siempre 1)\n",
    "        output = np.random.randint(2)\n",
    "        if output == 1:\n",
    "            oracle_qc.x(n)\n",
    "    \n",
    "    oracle_gate = oracle_qc.to_gate()\n",
    "    oracle_gate.name = \"Oracle\" # El nombre que se mostrara en el diagrama del circuito\n",
    "    return oracle_gate"
   ]
  },
  {
   "cell_type": "code",
   "execution_count": 9,
   "metadata": {},
   "outputs": [],
   "source": [
    "def dj_algorithm(n, case = 'random'):\n",
    "    dj_circuit = QuantumCircuit(n+1, n) # n bits clasicos para asignar el resultado de la medicion\n",
    "\n",
    "    for qubit in range(n):\n",
    "        dj_circuit.h(qubit)\n",
    "\n",
    "    dj_circuit.x(n)\n",
    "    dj_circuit.h(n)\n",
    "\n",
    "    # Ahora agregamos la compuerta oracle a nuestro circuito:\n",
    "    if case == 'random':\n",
    "        random = np.random.randint(2)\n",
    "        if random == 0:\n",
    "            case = 'constant'\n",
    "        else:\n",
    "            case = 'balanced'\n",
    "    oracle = dj_oracle(case, n)\n",
    "    dj_circuit.append(oracle, range(n+1))\n",
    "\n",
    "    # finalmente, aplicamos las compuertas H de nuevo y ejecutamos una medicion\n",
    "    for i in range(n):\n",
    "        dj_circuit.h(i)\n",
    "        dj_circuit.measure(i,i)\n",
    "    return dj_circuit"
   ]
  },
  {
   "cell_type": "code",
   "execution_count": 10,
   "metadata": {},
   "outputs": [
    {
     "data": {
      "text/html": "<pre style=\"word-wrap: normal;white-space: pre;background: #fff0;line-height: 1.1;font-family: &quot;Courier New&quot;,Courier,monospace\">     ┌───┐     ┌─────────┐┌───┐┌─┐         \nq_0: ┤ H ├─────┤0        ├┤ H ├┤M├─────────\n     ├───┤     │         │├───┤└╥┘┌─┐      \nq_1: ┤ H ├─────┤1        ├┤ H ├─╫─┤M├──────\n     ├───┤     │         │├───┤ ║ └╥┘┌─┐   \nq_2: ┤ H ├─────┤2 Oracle ├┤ H ├─╫──╫─┤M├───\n     ├───┤     │         │├───┤ ║  ║ └╥┘┌─┐\nq_3: ┤ H ├─────┤3        ├┤ H ├─╫──╫──╫─┤M├\n     ├───┤┌───┐│         │└───┘ ║  ║  ║ └╥┘\nq_4: ┤ X ├┤ H ├┤4        ├──────╫──╫──╫──╫─\n     └───┘└───┘└─────────┘      ║  ║  ║  ║ \nc: 4/═══════════════════════════╩══╩══╩══╩═\n                                0  1  2  3 </pre>",
      "text/plain": "     ┌───┐     ┌─────────┐┌───┐┌─┐         \nq_0: ┤ H ├─────┤0        ├┤ H ├┤M├─────────\n     ├───┤     │         │├───┤└╥┘┌─┐      \nq_1: ┤ H ├─────┤1        ├┤ H ├─╫─┤M├──────\n     ├───┤     │         │├───┤ ║ └╥┘┌─┐   \nq_2: ┤ H ├─────┤2 Oracle ├┤ H ├─╫──╫─┤M├───\n     ├───┤     │         │├───┤ ║  ║ └╥┘┌─┐\nq_3: ┤ H ├─────┤3        ├┤ H ├─╫──╫──╫─┤M├\n     ├───┤┌───┐│         │└───┘ ║  ║  ║ └╥┘\nq_4: ┤ X ├┤ H ├┤4        ├──────╫──╫──╫──╫─\n     └───┘└───┘└─────────┘      ║  ║  ║  ║ \nc: 4/═══════════════════════════╩══╩══╩══╩═\n                                0  1  2  3 "
     },
     "execution_count": 10,
     "metadata": {},
     "output_type": "execute_result"
    }
   ],
   "source": [
    "n = 4\n",
    "dj_circuit = dj_algorithm(n)\n",
    "dj_circuit.draw()"
   ]
  },
  {
   "cell_type": "code",
   "execution_count": 11,
   "metadata": {},
   "outputs": [
    {
     "data": {
      "image/png": "[encoded data removed]",
      "text/plain": "<Figure size 504x360 with 1 Axes>"
     },
     "execution_count": 11,
     "metadata": {},
     "output_type": "execute_result"
    }
   ],
   "source": [
    "backend = BasicAer.get_backend('qasm_simulator')\n",
    "shots = 1024\n",
    "dj_circuit = dj_algorithm(n)\n",
    "results = execute(dj_circuit, backend=backend, shots=shots).result()\n",
    "answer = results.get_counts()\n",
    "\n",
    "plot_histogram(answer)\n",
    "\n",
    "#0000 -> Constant, 1111->Balanced"
   ]
  },
  {
   "cell_type": "code",
   "execution_count": 12,
   "metadata": {},
   "outputs": [
    {
     "name": "stdout",
     "output_type": "stream",
     "text": [
      "least busy backend:  ibmq_quito\n"
     ]
    },
    {
     "data": {
      "application/vnd.jupyter.widget-view+json": {
       "model_id": "2cd9feaede9048b29bd22ef59026178a",
       "version_major": 2,
       "version_minor": 0
      },
      "text/plain": "Accordion(children=(VBox(layout=Layout(max_width='710px', min_width='710px')),), layout=Layout(max_height='500…"
     },
     "metadata": {},
     "output_type": "display_data"
    },
    {
     "data": {
      "application/javascript": "$('div.job_widget')\n        .detach()\n        .appendTo($('#header'))\n        .css({\n            'z-index': 999,\n             'position': 'fixed',\n            'box-shadow': '5px 5px 5px -3px black',\n            'opacity': 0.95,\n            'float': 'left,'\n        })\n        ",
      "text/plain": "<IPython.core.display.Javascript object>"
     },
     "metadata": {},
     "output_type": "display_data"
    }
   ],
   "source": [
    "backend = least_busy(provider.backends(filters=lambda x: x.configuration().n_qubits >= (n+1) and not x.configuration().simulator and x.status().operational==True ))\n",
    "print(\"least busy backend: \", backend)\n",
    "%qiskit_job_watcher\n",
    "dj_circuit = dj_algorithm(n)\n",
    "job = execute(dj_circuit, backend=backend, shots=shots, optimization_level=3) # Optimization level = highest, chooses best gate map, optimizes gates"
   ]
  },
  {
   "cell_type": "code",
   "execution_count": 13,
   "metadata": {},
   "outputs": [
    {
     "data": {
      "image/png": "[encoded data removed]",
      "text/plain": "<Figure size 504x360 with 1 Axes>"
     },
     "execution_count": 13,
     "metadata": {},
     "output_type": "execute_result"
    }
   ],
   "source": [
    "results = job.result()\n",
    "answer = results.get_counts()\n",
    "plot_histogram(answer)"
   ]
  },
  {
   "cell_type": "code",
   "execution_count": null,
   "metadata": {},
   "outputs": [],
   "source": [
    "# Recuperar submisiones previas\n",
    "backend = provider.get_backend('ibmq_quito')\n",
    "old_job = backend.retrieve_job('610054ef5814b983a8534c8d')\n",
    "results = old_job.result()\n",
    "answer = results.get_counts()\n",
    "plot_histogram(answer)"
   ]
  },
  {
   "cell_type": "markdown",
   "metadata": {},
   "source": [
    "For the constant case, the operations that we applied are very simple, and mos toperations are single-qubit at most, so we get a high fidelity result. For the balanced case, we applied a lot of CNOT gates, which introduce a lot of noise, therefore reducing the fidelity of finding the target state."
   ]
  },
  {
   "cell_type": "code",
   "execution_count": null,
   "metadata": {},
   "outputs": [],
   "source": []
  }
 ],
 "metadata": {
  "kernelspec": {
   "display_name": "Python 3.9.5 64-bit",
   "name": "python395jvsc74a57bd0aee8b7b246df8f9039afb4144a1f6fd8d2ca17a180786b69acc140d282b71a49"
  },
  "language_info": {
   "codemirror_mode": {
    "name": "ipython",
    "version": 3
   },
   "file_extension": ".py",
   "mimetype": "text/x-python",
   "name": "python",
   "nbconvert_exporter": "python",
   "pygments_lexer": "ipython3",
   "version": "3.9.5"
  },
  "metadata": {
   "interpreter": {
    "hash": "aee8b7b246df8f9039afb4144a1f6fd8d2ca17a180786b69acc140d282b71a49"
   }
  },
  "orig_nbformat": 2
 },
 "nbformat": 4,
 "nbformat_minor": 2
}