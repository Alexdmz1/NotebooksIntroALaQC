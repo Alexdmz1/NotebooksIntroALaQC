{
 "cells": [
  {
   "cell_type": "markdown",
   "metadata": {},
   "source": [
    "# Circuito de teleportacion cuantica en Qiskit\n",
    "Recordemos que la idea de la teleportacion cuantica es que tenemos un emisor de informacion (Alice), que tiene un cubit en un estado arbitrario:\n",
    "\n",
    "$\n",
    "|\\Psi> = \\alpha |0> + \\beta |1>\n",
    "$\n",
    "\n",
    "y desea enviar dos bits de informacion el recipiente (Bob)."
   ]
  },
  {
   "cell_type": "code",
   "execution_count": 3,
   "metadata": {},
   "outputs": [],
   "source": [
    "from qiskit.visualization import plot_bloch_multivector, plot_histogram\n",
    "from qiskit import QuantumCircuit, QuantumRegister, ClassicalRegister\n",
    "from qiskit import Aer, execute"
   ]
  },
  {
   "cell_type": "code",
   "execution_count": 4,
   "metadata": {},
   "outputs": [],
   "source": [
    "q =  QuantumRegister(3)\n",
    "c = ClassicalRegister(3)\n",
    "qc = QuantumCircuit(q,c)\n",
    "# Ahora tenemos 3 cubis, el primero q0 representa el estado desconocido, el segundo y tercero q1 y q2 son los cubits\n",
    "# entrelazados de Alice y Bob"
   ]
  },
  {
   "cell_type": "code",
   "execution_count": 5,
   "metadata": {},
   "outputs": [
    {
     "data": {
      "text/plain": "<qiskit.circuit.instructionset.InstructionSet at 0x16b1dca00>"
     },
     "execution_count": 5,
     "metadata": {},
     "output_type": "execute_result"
    }
   ],
   "source": [
    "# Ahora vamos a preparar el primer cubit (0) en un estado desconocido para Alice y Bob. Aplicamos dos operadores unitarios, \n",
    "# la compuerta de NOT y la compuerta de Z:\n",
    "qc.x(0)\n",
    "qc.z(0)\n",
    "qc.barrier()\n",
    "# Al final, añadimos una barrera, que es simplemente una herramienta visual para separar esta parte del circuito del resto"
   ]
  },
  {
   "cell_type": "code",
   "execution_count": 6,
   "metadata": {},
   "outputs": [
    {
     "data": {
      "text/plain": "<qiskit.circuit.instructionset.InstructionSet at 0x16b5395b0>"
     },
     "execution_count": 6,
     "metadata": {},
     "output_type": "execute_result"
    }
   ],
   "source": [
    "# El siguiente paso, es entrelazar los cubits de Alice y Bob el 1 y el 2, aplicando una compuerta de Hadamard al cubit de Alic,\n",
    "# seguido de una compuerta de tipo CNOT entre los dos cubits (1 y 2).\n",
    "qc.h(1)\n",
    "qc.cx(1,2)\n",
    "qc.barrier()"
   ]
  },
  {
   "cell_type": "code",
   "execution_count": 7,
   "metadata": {},
   "outputs": [
    {
     "data": {
      "text/plain": "<qiskit.circuit.instructionset.InstructionSet at 0x16b5440a0>"
     },
     "execution_count": 7,
     "metadata": {},
     "output_type": "execute_result"
    }
   ],
   "source": [
    "# Ahora, vamos a entrelazar el cubit de Alice (que a su vez esta entrelazado con el cubit de Bob) con el cubit |Psi>,\n",
    "# y despues aplicamos una compuerta de Hadamard antes de medir el estado |Psi> y los cubits entrelazados:\n",
    "qc.cx(0,1)\n",
    "qc.h(0)\n",
    "qc.measure(0,0)\n",
    "qc.measure(1,1)\n",
    "qc.barrier()\n",
    "qc.cx(1,2)\n",
    "qc.barrier()"
   ]
  },
  {
   "cell_type": "code",
   "execution_count": 8,
   "metadata": {},
   "outputs": [
    {
     "data": {
      "text/plain": "<qiskit.circuit.instructionset.InstructionSet at 0x16ae1e9a0>"
     },
     "execution_count": 8,
     "metadata": {},
     "output_type": "execute_result"
    }
   ],
   "source": [
    "# Despues  de medir los cubits |Psi> y q1, Alice le llama a Bob y le comunica los resultados de su medicion.\n",
    "# Entonces Bob aplica las compuertas necesarias basandose en estos resultados. Y la idea de aplicar estas compuertas, \n",
    "# es que si recuerdan de las clases anteriores, hablabamos de que las compuertas cuanticas tienen la propiedad de ser \n",
    "# reversibles, y por lo tanto, debemos recuperar el estado |Psi> durante su preparacion, en orden reverso para recuperar\n",
    "# el estado original.\n",
    "qc.z(2)\n",
    "qc.x(2)"
   ]
  },
  {
   "cell_type": "code",
   "execution_count": 9,
   "metadata": {},
   "outputs": [
    {
     "data": {
      "text/plain": "<qiskit.circuit.instructionset.InstructionSet at 0x16b2d16a0>"
     },
     "execution_count": 9,
     "metadata": {},
     "output_type": "execute_result"
    }
   ],
   "source": [
    "# Ahora, como podemos comprobar que nuestros resultados son correctos?\n",
    "# Aplicando una medicion en el estado de Bob, y si todo funciono, lo vamos a encontrar en el estado |0>\n",
    "qc.measure(2,2)"
   ]
  },
  {
   "cell_type": "code",
   "execution_count": 18,
   "metadata": {},
   "outputs": [
    {
     "data": {
      "text/html": "<pre style=\"word-wrap: normal;white-space: pre;background: #fff0;line-height: 1.1;font-family: &quot;Courier New&quot;,Courier,monospace\">      ┌───┐┌───┐ ░            ░      ┌───┐┌─┐ ░       ░              \nq0_0: ┤ X ├┤ Z ├─░────────────░───■──┤ H ├┤M├─░───────░──────────────\n      └───┘└───┘ ░ ┌───┐      ░ ┌─┴─┐└┬─┬┘└╥┘ ░       ░              \nq0_1: ───────────░─┤ H ├──■───░─┤ X ├─┤M├──╫──░───■───░──────────────\n                 ░ └───┘┌─┴─┐ ░ └───┘ └╥┘  ║  ░ ┌─┴─┐ ░ ┌───┐┌───┐┌─┐\nq0_2: ───────────░──────┤ X ├─░────────╫───╫──░─┤ X ├─░─┤ Z ├┤ X ├┤M├\n                 ░      └───┘ ░        ║   ║  ░ └───┘ ░ └───┘└───┘└╥┘\nc0: 3/═════════════════════════════════╩═══╩═══════════════════════╩═\n                                       1   0                       2 </pre>",
      "text/plain": "      ┌───┐┌───┐ ░            ░      ┌───┐┌─┐ ░       ░              \nq0_0: ┤ X ├┤ Z ├─░────────────░───■──┤ H ├┤M├─░───────░──────────────\n      └───┘└───┘ ░ ┌───┐      ░ ┌─┴─┐└┬─┬┘└╥┘ ░       ░              \nq0_1: ───────────░─┤ H ├──■───░─┤ X ├─┤M├──╫──░───■───░──────────────\n                 ░ └───┘┌─┴─┐ ░ └───┘ └╥┘  ║  ░ ┌─┴─┐ ░ ┌───┐┌───┐┌─┐\nq0_2: ───────────░──────┤ X ├─░────────╫───╫──░─┤ X ├─░─┤ Z ├┤ X ├┤M├\n                 ░      └───┘ ░        ║   ║  ░ └───┘ ░ └───┘└───┘└╥┘\nc0: 3/═════════════════════════════════╩═══╩═══════════════════════╩═\n                                       1   0                       2 "
     },
     "execution_count": 18,
     "metadata": {},
     "output_type": "execute_result"
    }
   ],
   "source": [
    "import pylatexenc\n",
    "qc.draw()"
   ]
  },
  {
   "cell_type": "markdown",
   "metadata": {},
   "source": [
    "Entonces recapitulando acerca de nuestro circuito de teleportacion,\n",
    "\n",
    "- Bob recupera el estado que Alice envia, |Psi>. Es importante aqui recalcar que por el Teorema de no Clonacion, no podemos copiar un estado cuantico, lo que necesitamos hacer es manipular la informacion contenida en dicho estado, mediante compuertas cuanticas y cubits.\n",
    "- Las barreras aqui representan varias estapas de este proceso:\n",
    "(1) En el segmento 1, Alice prepara el cubit que desea enviar a Bob,\n",
    "(2) En el segundo segmento, los cubits 1 y 2 son entrelazados.\n",
    "(3) En el tercer segmento, Alice entrelaza su cubit entrelazado q1 con el cubit del estado que desea enviar (q0). Luego hace una medicion en estos dos cubits (q0 y q1).\n",
    "(4) En el ultimo segmento, Bob recibe esta informacion y la codifica en su cubit mediante las compuertas Z y X, que son aplicadas en orden invertido a como Alice preparo el estado |Psi> en el primer segmento.\n",
    "- Si todo funciono, la medicion de Bob siempre debe ser 0, porque es el estado inicial en el que se encontraba el cubit q0."
   ]
  },
  {
   "cell_type": "code",
   "execution_count": 19,
   "metadata": {},
   "outputs": [
    {
     "data": {
      "image/png": "[encoded data removed]",
      "text/plain": "<Figure size 504x360 with 1 Axes>"
     },
     "execution_count": 19,
     "metadata": {},
     "output_type": "execute_result"
    }
   ],
   "source": [
    "# Ahora podeos confirmar qur nuestro circuito funciona, corriendo nuestro circuito:\n",
    "\n",
    "backend = Aer.get_backend('qasm_simulator')\n",
    "job = execute(qc, backend, shots = 1024)\n",
    "job_result = job.result()\n",
    "results = job_result.get_counts(qc)\n",
    "plot_histogram(results)"
   ]
  },
  {
   "cell_type": "markdown",
   "metadata": {},
   "source": [
    "Y asi confirmamos, que efectivamente, Bob recupera el estado que Alice prepara, porque con 100% de probabilidad, el cubit q0, lo observamos en el estado 0, independientemente de en que estado observamos los cubits q1 y q2."
   ]
  },
  {
   "cell_type": "code",
   "execution_count": null,
   "metadata": {},
   "outputs": [],
   "source": []
  }
 ],
 "metadata": {
  "kernelspec": {
   "display_name": "Python 3.9.5 64-bit",
   "name": "python395jvsc74a57bd0aee8b7b246df8f9039afb4144a1f6fd8d2ca17a180786b69acc140d282b71a49"
  },
  "language_info": {
   "codemirror_mode": {
    "name": "ipython",
    "version": 3
   },
   "file_extension": ".py",
   "mimetype": "text/x-python",
   "name": "python",
   "nbconvert_exporter": "python",
   "pygments_lexer": "ipython3",
   "version": "3.9.5"
  },
  "metadata": {
   "interpreter": {
    "hash": "aee8b7b246df8f9039afb4144a1f6fd8d2ca17a180786b69acc140d282b71a49"
   }
  },
  "orig_nbformat": 2
 },
 "nbformat": 4,
 "nbformat_minor": 2
}