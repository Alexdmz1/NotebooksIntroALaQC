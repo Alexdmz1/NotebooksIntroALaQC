{
 "cells": [
  {
   "cell_type": "markdown",
   "metadata": {},
   "source": [
    "# Implementacion del algoritmo de Deutsch-Jozsa en dos cubits para una funcion balanceada"
   ]
  },
  {
   "cell_type": "code",
   "execution_count": 17,
   "metadata": {},
   "outputs": [],
   "source": [
    "import numpy as np\n",
    "\n",
    "from qiskit import IBMQ, BasicAer\n",
    "from qiskit.providers.ibmq import least_busy\n",
    "from qiskit import QuantumCircuit, execute\n",
    "from qiskit.tools.jupyter import *\n",
    "from qiskit import Aer, execute\n",
    "from qiskit.visualization import plot_bloch_multivector, plot_histogram, plot_state_qsphere"
   ]
  },
  {
   "cell_type": "markdown",
   "metadata": {},
   "source": [
    "Empezamos por crear un circuito de dos cubits y preparamos cada uno de los cubits iniciales, el primero en el estado |0> y el segundo en el estado |1>."
   ]
  },
  {
   "cell_type": "code",
   "execution_count": 2,
   "metadata": {},
   "outputs": [],
   "source": [
    "qc = QuantumCircuit(2,1)"
   ]
  },
  {
   "cell_type": "markdown",
   "metadata": {},
   "source": [
    "**Paso 1:** Preparamos los cubits de entrada, donde q0=0, q1=1"
   ]
  },
  {
   "cell_type": "code",
   "execution_count": 4,
   "metadata": {},
   "outputs": [
    {
     "data": {
      "text/html": "<pre style=\"word-wrap: normal;white-space: pre;background: #fff0;line-height: 1.1;font-family: &quot;Courier New&quot;,Courier,monospace\">     ┌───┐ ░ \nq_0: ┤ I ├─░─\n     ├───┤ ░ \nq_1: ┤ X ├─░─\n     └───┘ ░ \nc: 1/════════\n             </pre>",
      "text/plain": "     ┌───┐ ░ \nq_0: ┤ I ├─░─\n     ├───┤ ░ \nq_1: ┤ X ├─░─\n     └───┘ ░ \nc: 1/════════\n             "
     },
     "execution_count": 4,
     "metadata": {},
     "output_type": "execute_result"
    }
   ],
   "source": [
    "qc.i(0)\n",
    "qc.x(1)\n",
    "qc.barrier()\n",
    "qc.draw()"
   ]
  },
  {
   "cell_type": "markdown",
   "metadata": {},
   "source": [
    "Por lo tanto, podemos decir que el estado Psi_0 al punto donde dibujamos la barrera, es el estado |01>\n",
    "\n",
    "**Paso 2:** Ahora ponemos nuestros cubits en superposicion, aplicandoles la compuerta de Hadamard"
   ]
  },
  {
   "cell_type": "code",
   "execution_count": 5,
   "metadata": {},
   "outputs": [
    {
     "data": {
      "text/html": "<pre style=\"word-wrap: normal;white-space: pre;background: #fff0;line-height: 1.1;font-family: &quot;Courier New&quot;,Courier,monospace\">     ┌───┐ ░ ┌───┐ ░ \nq_0: ┤ I ├─░─┤ H ├─░─\n     ├───┤ ░ ├───┤ ░ \nq_1: ┤ X ├─░─┤ H ├─░─\n     └───┘ ░ └───┘ ░ \nc: 1/════════════════\n                     </pre>",
      "text/plain": "     ┌───┐ ░ ┌───┐ ░ \nq_0: ┤ I ├─░─┤ H ├─░─\n     ├───┤ ░ ├───┤ ░ \nq_1: ┤ X ├─░─┤ H ├─░─\n     └───┘ ░ └───┘ ░ \nc: 1/════════════════\n                     "
     },
     "execution_count": 5,
     "metadata": {},
     "output_type": "execute_result"
    }
   ],
   "source": [
    "qc.h(0)\n",
    "qc.h(1)\n",
    "qc.barrier()\n",
    "qc.draw()"
   ]
  },
  {
   "cell_type": "markdown",
   "metadata": {},
   "source": [
    "**Paso 3:** Añadir la compuerta de CNOT que genera la funcion de tipo balanceada"
   ]
  },
  {
   "cell_type": "code",
   "execution_count": 6,
   "metadata": {},
   "outputs": [
    {
     "data": {
      "text/html": "<pre style=\"word-wrap: normal;white-space: pre;background: #fff0;line-height: 1.1;font-family: &quot;Courier New&quot;,Courier,monospace\">     ┌───┐ ░ ┌───┐ ░       ░ \nq_0: ┤ I ├─░─┤ H ├─░───■───░─\n     ├───┤ ░ ├───┤ ░ ┌─┴─┐ ░ \nq_1: ┤ X ├─░─┤ H ├─░─┤ X ├─░─\n     └───┘ ░ └───┘ ░ └───┘ ░ \nc: 1/════════════════════════\n                             </pre>",
      "text/plain": "     ┌───┐ ░ ┌───┐ ░       ░ \nq_0: ┤ I ├─░─┤ H ├─░───■───░─\n     ├───┤ ░ ├───┤ ░ ┌─┴─┐ ░ \nq_1: ┤ X ├─░─┤ H ├─░─┤ X ├─░─\n     └───┘ ░ └───┘ ░ └───┘ ░ \nc: 1/════════════════════════\n                             "
     },
     "execution_count": 6,
     "metadata": {},
     "output_type": "execute_result"
    }
   ],
   "source": [
    "qc.cx(0,1)\n",
    "qc.barrier()\n",
    "qc.draw()"
   ]
  },
  {
   "cell_type": "markdown",
   "metadata": {},
   "source": [
    "**Paso 4:** Añadimos compuertas de Hadamard a todos los cubits"
   ]
  },
  {
   "cell_type": "code",
   "execution_count": 7,
   "metadata": {},
   "outputs": [
    {
     "data": {
      "text/plain": "<qiskit.circuit.instructionset.InstructionSet at 0x7fb3a93dc4c0>"
     },
     "execution_count": 7,
     "metadata": {},
     "output_type": "execute_result"
    }
   ],
   "source": [
    "qc.h(0)\n",
    "qc.h(1)\n",
    "qc.barrier()"
   ]
  },
  {
   "cell_type": "markdown",
   "metadata": {},
   "source": [
    "**Paso 5:** Añadimos un operador de medicion al primer cubit."
   ]
  },
  {
   "cell_type": "code",
   "execution_count": 8,
   "metadata": {},
   "outputs": [
    {
     "data": {
      "text/plain": "<qiskit.circuit.instructionset.InstructionSet at 0x7fb3a9c51af0>"
     },
     "execution_count": 8,
     "metadata": {},
     "output_type": "execute_result"
    }
   ],
   "source": [
    "qc.measure(0,0)"
   ]
  },
  {
   "cell_type": "code",
   "execution_count": 9,
   "metadata": {},
   "outputs": [
    {
     "data": {
      "text/html": "<pre style=\"word-wrap: normal;white-space: pre;background: #fff0;line-height: 1.1;font-family: &quot;Courier New&quot;,Courier,monospace\">     ┌───┐ ░ ┌───┐ ░       ░ ┌───┐ ░ ┌─┐\nq_0: ┤ I ├─░─┤ H ├─░───■───░─┤ H ├─░─┤M├\n     ├───┤ ░ ├───┤ ░ ┌─┴─┐ ░ ├───┤ ░ └╥┘\nq_1: ┤ X ├─░─┤ H ├─░─┤ X ├─░─┤ H ├─░──╫─\n     └───┘ ░ └───┘ ░ └───┘ ░ └───┘ ░  ║ \nc: 1/═════════════════════════════════╩═\n                                      0 </pre>",
      "text/plain": "     ┌───┐ ░ ┌───┐ ░       ░ ┌───┐ ░ ┌─┐\nq_0: ┤ I ├─░─┤ H ├─░───■───░─┤ H ├─░─┤M├\n     ├───┤ ░ ├───┤ ░ ┌─┴─┐ ░ ├───┤ ░ └╥┘\nq_1: ┤ X ├─░─┤ H ├─░─┤ X ├─░─┤ H ├─░──╫─\n     └───┘ ░ └───┘ ░ └───┘ ░ └───┘ ░  ║ \nc: 1/═════════════════════════════════╩═\n                                      0 "
     },
     "execution_count": 9,
     "metadata": {},
     "output_type": "execute_result"
    }
   ],
   "source": [
    "qc.draw()"
   ]
  },
  {
   "cell_type": "markdown",
   "metadata": {},
   "source": [
    "**Paso 6:** Ahora ejecutamos el circuito en el simulador para confirmar nuestro resultado"
   ]
  },
  {
   "cell_type": "code",
   "execution_count": 14,
   "metadata": {},
   "outputs": [],
   "source": [
    "backend = Aer.get_backend('qasm_simulator')\n",
    "result = execute(qc, backend = backend, shots=1024).result()\n",
    "counts = result.get_counts(qc)"
   ]
  },
  {
   "cell_type": "code",
   "execution_count": 15,
   "metadata": {},
   "outputs": [
    {
     "name": "stdout",
     "output_type": "stream",
     "text": [
      "{'1': 1024}\n"
     ]
    }
   ],
   "source": [
    "print(counts)"
   ]
  },
  {
   "cell_type": "code",
   "execution_count": 18,
   "metadata": {},
   "outputs": [
    {
     "data": {
      "image/png": "[encoded data removed]",
      "text/plain": "<Figure size 504x360 with 1 Axes>"
     },
     "execution_count": 18,
     "metadata": {},
     "output_type": "execute_result"
    }
   ],
   "source": [
    "plot_histogram(counts, title='Balanced function')"
   ]
  },
  {
   "cell_type": "code",
   "execution_count": null,
   "metadata": {},
   "outputs": [],
   "source": []
  }
 ],
 "metadata": {
  "kernelspec": {
   "display_name": "Python 3.8.8 64-bit ('base': conda)",
   "name": "python388jvsc74a57bd0dca0ade3e726a953b501b15e8e990130d2b7799f14cfd9f4271676035ebe5511"
  },
  "language_info": {
   "codemirror_mode": {
    "name": "ipython",
    "version": 3
   },
   "file_extension": ".py",
   "mimetype": "text/x-python",
   "name": "python",
   "nbconvert_exporter": "python",
   "pygments_lexer": "ipython3",
   "version": "3.8.8"
  },
  "orig_nbformat": 2
 },
 "nbformat": 4,
 "nbformat_minor": 2
}