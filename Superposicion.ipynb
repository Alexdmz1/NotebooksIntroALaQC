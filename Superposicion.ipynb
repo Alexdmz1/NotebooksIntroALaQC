{
 "metadata": {
  "language_info": {
   "codemirror_mode": {
    "name": "ipython",
    "version": 3
   },
   "file_extension": ".py",
   "mimetype": "text/x-python",
   "name": "python",
   "nbconvert_exporter": "python",
   "pygments_lexer": "ipython3",
   "version": "3.9.5"
  },
  "orig_nbformat": 2,
  "kernelspec": {
   "name": "python395jvsc74a57bd0aee8b7b246df8f9039afb4144a1f6fd8d2ca17a180786b69acc140d282b71a49",
   "display_name": "Python 3.9.5 64-bit"
  },
  "metadata": {
   "interpreter": {
    "hash": "aee8b7b246df8f9039afb4144a1f6fd8d2ca17a180786b69acc140d282b71a49"
   }
  }
 },
 "nbformat": 4,
 "nbformat_minor": 2,
 "cells": [
  {
   "source": [
    "# Superposicion\n",
    "\n",
    "En este notebook vamos a crear un circuito con un solo cubit y aplicar un operador en dicho cubit para ponerlo en superposicion."
   ],
   "cell_type": "markdown",
   "metadata": {}
  },
  {
   "cell_type": "code",
   "execution_count": null,
   "metadata": {},
   "outputs": [],
   "source": [
    "from qiskit.visualization import plot_bloch_multivector\n",
    "from qiskit import QuantumCircuit\n",
    "from qiskit import Aer, execute"
   ]
  },
  {
   "cell_type": "code",
   "execution_count": null,
   "metadata": {},
   "outputs": [],
   "source": [
    "qc = QuantumCircuit(1) # Creamos un circuito de un solo cubit"
   ]
  },
  {
   "cell_type": "code",
   "execution_count": null,
   "metadata": {},
   "outputs": [],
   "source": [
    "# Ahora vamos a ejecutar el circuito\n",
    "\n",
    "backend = Aer.get_backend('statevector_simulator')\n",
    "result = execute(qc, backend).result()\n",
    "\n",
    "# Hasta aqui, no hemos implementado ninguna operacion de medicion, simplemente queremos hacer un estimado analitico del comportamiento de nuestro sistema"
   ]
  },
  {
   "cell_type": "code",
   "execution_count": null,
   "metadata": {},
   "outputs": [],
   "source": [
    "stateVectorResult = result.get_statevector(qc)"
   ]
  },
  {
   "cell_type": "code",
   "execution_count": null,
   "metadata": {},
   "outputs": [],
   "source": [
    "# Graficar la esfera de Block\n",
    "\n",
    "plot_bloch_multivector(stateVectorResult)"
   ]
  },
  {
   "cell_type": "code",
   "execution_count": null,
   "metadata": {},
   "outputs": [],
   "source": [
    "# Ahora vamosa poner nuestro cubit en superposicion, añadiendo una compuerta Hadamard (H)\n",
    "\n",
    "qc.h(0) #Asi aplicamos la compuerta H en el cubit 0"
   ]
  },
  {
   "cell_type": "code",
   "execution_count": null,
   "metadata": {},
   "outputs": [],
   "source": [
    "qc.draw()"
   ]
  },
  {
   "source": [
    "Aqui,  la compuerta de Hadamard es una compuerta que pone a nuestro cubit en un estado de superposicion, o mas especificamente, en unna combinacion lineal de los estados base, |0> y |1>.\n",
    "\n",
    "Esto significa que cuando hacemos una medicion en nuestro cubit, tenemos una probabilidad igual de encontrar nuestro sistema en el estado |0> o |1>.\n",
    "\n",
    "Matematicamente, el estado de superposicion esta representado en las siguientes dos expresiones, que como vamos a ver depende en cual de los dos estados base, estaba nuestro sistema antes de aplicar la compuerta de Hadamard.\n",
    "\n",
    "La primera expresion corresponde a el caso en que nuestro sistema se encontraba en el estado |0>:\n",
    "\n",
    "$$\n",
    "|+> = \\frac{|0> + |1>}{\\sqrt{2}}\n",
    "$$\n",
    "\n",
    "La segunda expresion corresponde a el caso cuando nuestro sistema estaba en el estado |1>:\n",
    "\n",
    "$$\n",
    "|-> = \\frac{|0> - |1>}{\\sqrt{2}}\n",
    "$$\n",
    "\n",
    "Esto es lo mismo que una rotacion de $\\pi/2$ sobre los ejes X y Z en la esfera de Bloch. \n",
    "\n",
    "**Nota:** Normalmente las rotaciones son analogas a las rotaciones en el plano cartesiano y se ejecutan en contra de las manecillas del reloj.\n",
    "\n",
    "** Ahora vamos a ejecutar el circuito! **"
   ],
   "cell_type": "markdown",
   "metadata": {}
  },
  {
   "cell_type": "code",
   "execution_count": null,
   "metadata": {},
   "outputs": [],
   "source": [
    "result = execute(qc,backend).result() # Ejecutamos el circuito de nuevo, despues de aplicar la compuerta de Hadamard."
   ]
  },
  {
   "cell_type": "code",
   "execution_count": null,
   "metadata": {},
   "outputs": [],
   "source": [
    "stateVectorResult = result.get_statevector(qc) # Asignamos los resultados de la ejecucion del circuito a stateVectorResult"
   ]
  },
  {
   "cell_type": "code",
   "execution_count": null,
   "metadata": {},
   "outputs": [],
   "source": [
    "plot_bloch_multivector(stateVectorResult)"
   ]
  },
  {
   "source": [
    "Aqui, como esperabamos nuestro estado ahora esta en superposicion entre |0> y |1>. Tambien ahora podemos ver, que claramente nuestro estado |+> es el eje positivo X y que nuestra compuerta de Hadamard es una rotacion de pi/2 sobre los ejes X y Z."
   ],
   "cell_type": "markdown",
   "metadata": {}
  },
  {
   "cell_type": "code",
   "execution_count": null,
   "metadata": {},
   "outputs": [],
   "source": [
    "# Ahora vamos a hacer un reset en el circuito. Ahora vamos a inicializar el cubit en el estado |1>, antes de aplicar la compuerta de Hadamard\n",
    "\n",
    "# Reiniciar el circuito\n",
    "qc = QuantumCircuit(1)"
   ]
  },
  {
   "cell_type": "code",
   "execution_count": null,
   "metadata": {},
   "outputs": [],
   "source": [
    "# Rotar el cubit del estado 0 al 1 utilizando la compuerta X o NOT\n",
    "qc.x(0)"
   ]
  },
  {
   "cell_type": "code",
   "execution_count": null,
   "metadata": {},
   "outputs": [],
   "source": [
    "# Añadir la compuerta de Hadamard\n",
    "qc.h(0)"
   ]
  },
  {
   "cell_type": "code",
   "execution_count": null,
   "metadata": {},
   "outputs": [],
   "source": [
    "qc.draw()"
   ]
  },
  {
   "cell_type": "code",
   "execution_count": null,
   "metadata": {},
   "outputs": [],
   "source": [
    "# De nuevo, vamos a ejecutar el circuito y graficar los resultados en la esfera de Bloch\n",
    "\n",
    "result = execute(qc,backend).result() # Ejecutamos el circuito de nuevo, despues de aplicar la compuerta de Hadamard.\n",
    "stateVectorResult = result.get_statevector(qc) # Asignamos los resultados de la ejecucion del circuito a stateVectorResult\n",
    "plot_bloch_multivector(stateVectorResult)"
   ]
  },
  {
   "source": [
    "Ahora vemos la diferencia, aplicar la compuerta NOT, seguida de la compuerta de Hadamard, nos pone nuestro vector en el eje negativo de X que corresponde al estado |->.\n",
    "\n",
    "** El siguiente paso es ver como se ven estas probabilidades cuando aplicamos una medicion a nuestro sistema antes y despues de ponerlo en superposicion **\n",
    "\n",
    "Recordamos que usabamos la analogia de la moneda en el aire, que cuando estaba en el aire, la moneda estaba en un estado de superposicion entre cara o cruz.\n",
    "\n",
    "Una vez que la moneda deja de estar al aire, nuestro sistema colapsa a a uno de los dos posibles estados."
   ],
   "cell_type": "markdown",
   "metadata": {}
  },
  {
   "cell_type": "code",
   "execution_count": null,
   "metadata": {},
   "outputs": [],
   "source": [
    "# Ahora vamos a aplicar una mediciona nuestro circuito, pero antes vamos a reiniciar el circuito.\n",
    "\n",
    "qc = QuantumCircuit(1,1) # Nota que ahora le damos un segundo argumento, nuestro bit clasico para asignar el resultado de nuestra medicion\n",
    "\n",
    "qc.h(0) # Añadimos la compuerta de Hadamard"
   ]
  },
  {
   "cell_type": "code",
   "execution_count": null,
   "metadata": {},
   "outputs": [],
   "source": [
    "# Ahora vamos a incluir un operador de medicion, obligandolo a colapsar a uno de los dos posibles estados:\n",
    "\n",
    "measurement_circuit = QuantumCircuit(1,1)\n",
    "\n",
    "# Ahora usamos una funcion para hacer el mapeo de un cubit y un bit por su indice\n",
    "\n",
    "measurement_circuit.measure(0,0)"
   ]
  },
  {
   "cell_type": "code",
   "execution_count": null,
   "metadata": {},
   "outputs": [],
   "source": [
    "# Ahora vamos a combinar los circuitos:\n",
    "full_circuit = qc+measurement_circuit\n",
    "full_circuit.draw()"
   ]
  },
  {
   "cell_type": "code",
   "execution_count": null,
   "metadata": {},
   "outputs": [],
   "source": [
    "# Con este codigo, creamos un circuito de medicion que incluye un operador de medicion que basicamente colapsa al estado 0 o 1. Entonces identificamos dos componentes:\n",
    "\n",
    "#(1) El registro clasico (c) debajo del registro cuantico.\n",
    "#(2) El operador de medicion que extraera el resultado de nuestro sistema cuantico y lo asignara a nuestro bit clasico."
   ]
  },
  {
   "cell_type": "code",
   "execution_count": null,
   "metadata": {},
   "outputs": [],
   "source": [
    "# Ahora vamos a ejecutar y correr nuesto circuito por un cierto numero de shots. Este numero de shots se refiere al numero de veces que \"corremos\" nuestro experimento.\n",
    "\n",
    "backend = Aer.get_backend('qasm_simulator')"
   ]
  },
  {
   "cell_type": "code",
   "execution_count": null,
   "metadata": {},
   "outputs": [],
   "source": [
    "result = execute(full_circuit,backend, shots=1000).result()"
   ]
  },
  {
   "cell_type": "code",
   "execution_count": null,
   "metadata": {},
   "outputs": [],
   "source": [
    "counts = result.get_counts(full_circuit)\n",
    "print(counts)"
   ]
  },
  {
   "cell_type": "code",
   "execution_count": null,
   "metadata": {},
   "outputs": [],
   "source": [
    "# Y como esperabamos, nuestros resultados nos dan cerca de 50% y 50% de probabilidad de encontrar nuestro sistema en el estado 0 o 1."
   ]
  }
 ]
}