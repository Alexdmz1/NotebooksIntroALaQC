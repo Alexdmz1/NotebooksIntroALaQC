{
 "cells": [
  {
   "cell_type": "markdown",
   "metadata": {},
   "source": [
    "# Algoritmo de Bertnstein-Vazirani"
   ]
  },
  {
   "cell_type": "code",
   "execution_count": 1,
   "metadata": {},
   "outputs": [
    {
     "name": "stderr",
     "output_type": "stream",
     "text": [
      "/usr/local/lib/python3.9/site-packages/qiskit/providers/ibmq/ibmqfactory.py:192: UserWarning: Timestamps in IBMQ backend properties, jobs, and job results are all now in local time instead of UTC.\n",
      "  warnings.warn('Timestamps in IBMQ backend properties, jobs, and job results '\n"
     ]
    }
   ],
   "source": [
    "import numpy as np\n",
    "from qiskit import IBMQ, QuantumCircuit, Aer, execute\n",
    "from qiskit.quantum_info import Operator\n",
    "from qiskit.providers.ibmq import least_busy\n",
    "from qiskit.visualization import plot_histogram\n",
    "from qiskit.tools.jupyter import *\n",
    "provider = IBMQ.load_account()\n",
    "\n",
    "import warnings\n",
    "warnings.filterwarnings('ignore')"
   ]
  },
  {
   "cell_type": "markdown",
   "metadata": {},
   "source": [
    "Empezamos creando nuestro circuito que consiste de cuatro cubits y un cubit ancilla. Despues definimos nuestra cadena secreta de bits *shh*."
   ]
  },
  {
   "cell_type": "code",
   "execution_count": 2,
   "metadata": {},
   "outputs": [],
   "source": [
    "# Numero secreto\n",
    "shh = '1010'\n",
    "# Necesitamos un numero de cubits igual al numero de digitos en nuestra cadena secreta de bits\n",
    "input_qubits = len(shh)\n",
    "ancilla_qubit = 1\n",
    "total_qubits = input_qubits + ancilla_qubit\n",
    "\n",
    "#Inicializamos nuestro circuito cuantico\n",
    "qc = QuantumCircuit(total_qubits, input_qubits)"
   ]
  },
  {
   "cell_type": "markdown",
   "metadata": {},
   "source": [
    "Despues añadimos las compuertas de Hadamards a los cubits de entrada, asegurandonos de que estan en un estado de superposicion"
   ]
  },
  {
   "cell_type": "code",
   "execution_count": 3,
   "metadata": {},
   "outputs": [
    {
     "data": {
      "text/html": "<pre style=\"word-wrap: normal;white-space: pre;background: #fff0;line-height: 1.1;font-family: &quot;Courier New&quot;,Courier,monospace\">     ┌───┐\nq_0: ┤ H ├\n     ├───┤\nq_1: ┤ H ├\n     ├───┤\nq_2: ┤ H ├\n     ├───┤\nq_3: ┤ H ├\n     └───┘\nq_4: ─────\n          \nc: 4/═════\n          </pre>",
      "text/plain": "     ┌───┐\nq_0: ┤ H ├\n     ├───┤\nq_1: ┤ H ├\n     ├───┤\nq_2: ┤ H ├\n     ├───┤\nq_3: ┤ H ├\n     └───┘\nq_4: ─────\n          \nc: 4/═════\n          "
     },
     "execution_count": 3,
     "metadata": {},
     "output_type": "execute_result"
    }
   ],
   "source": [
    "for idx in range(input_qubits):\n",
    "    qc.h(idx)\n",
    "\n",
    "qc.draw()"
   ]
  },
  {
   "cell_type": "markdown",
   "metadata": {},
   "source": [
    "Ahora preparamos el cubit ancilla, primero rotandolo al estado |1> y despues aplicando la compuerta de Hadamard."
   ]
  },
  {
   "cell_type": "code",
   "execution_count": 4,
   "metadata": {},
   "outputs": [
    {
     "data": {
      "text/html": "<pre style=\"word-wrap: normal;white-space: pre;background: #fff0;line-height: 1.1;font-family: &quot;Courier New&quot;,Courier,monospace\">     ┌───┐      ░ \nq_0: ┤ H ├──────░─\n     ├───┤      ░ \nq_1: ┤ H ├──────░─\n     ├───┤      ░ \nq_2: ┤ H ├──────░─\n     ├───┤      ░ \nq_3: ┤ H ├──────░─\n     ├───┤┌───┐ ░ \nq_4: ┤ X ├┤ H ├─░─\n     └───┘└───┘ ░ \nc: 4/═════════════\n                  </pre>",
      "text/plain": "     ┌───┐      ░ \nq_0: ┤ H ├──────░─\n     ├───┤      ░ \nq_1: ┤ H ├──────░─\n     ├───┤      ░ \nq_2: ┤ H ├──────░─\n     ├───┤      ░ \nq_3: ┤ H ├──────░─\n     ├───┤┌───┐ ░ \nq_4: ┤ X ├┤ H ├─░─\n     └───┘└───┘ ░ \nc: 4/═════════════\n                  "
     },
     "execution_count": 4,
     "metadata": {},
     "output_type": "execute_result"
    }
   ],
   "source": [
    "qc.x(total_qubits-1)\n",
    "qc.h(total_qubits-1)\n",
    "qc.barrier()\n",
    "\n",
    "qc.draw()"
   ]
  },
  {
   "cell_type": "markdown",
   "metadata": {},
   "source": [
    "Ahora, necesitamos hacer un ajuste en el ordern de los bits. Los cubits estan alineados de izquiera a derecha, necesitamos invertir el orden de nuestro numero secreto, antes de aplicar el oraculo."
   ]
  },
  {
   "cell_type": "code",
   "execution_count": 5,
   "metadata": {},
   "outputs": [
    {
     "name": "stdout",
     "output_type": "stream",
     "text": [
      "Numero secreto antes de invertir el orden:  1010\n",
      "Numero despues de invertir el orden de los bits:  0101\n"
     ]
    }
   ],
   "source": [
    "print('Numero secreto antes de invertir el orden: ', shh)\n",
    "shh = shh[::-1]\n",
    "print('Numero despues de invertir el orden de los bits: ', shh)"
   ]
  },
  {
   "cell_type": "markdown",
   "metadata": {},
   "source": [
    "Para aplicar el oraculo, necesitamos activar el cambio de fase cada vez que encontramos un '1' en nuestra cadena de bits. Para hacerlo, aplicamos una compuerta CNOT en cada uno de nuestros cubits de entrada, donde el control es cada uno de los cubits de entrada y el target es el cubit ancilla."
   ]
  },
  {
   "cell_type": "code",
   "execution_count": 6,
   "metadata": {},
   "outputs": [
    {
     "data": {
      "text/html": "<pre style=\"word-wrap: normal;white-space: pre;background: #fff0;line-height: 1.1;font-family: &quot;Courier New&quot;,Courier,monospace\">     ┌───┐      ░            ░ \nq_0: ┤ H ├──────░────────────░─\n     ├───┤      ░            ░ \nq_1: ┤ H ├──────░───■────────░─\n     ├───┤      ░   │        ░ \nq_2: ┤ H ├──────░───┼────────░─\n     ├───┤      ░   │        ░ \nq_3: ┤ H ├──────░───┼────■───░─\n     ├───┤┌───┐ ░ ┌─┴─┐┌─┴─┐ ░ \nq_4: ┤ X ├┤ H ├─░─┤ X ├┤ X ├─░─\n     └───┘└───┘ ░ └───┘└───┘ ░ \nc: 4/══════════════════════════\n                               </pre>",
      "text/plain": "     ┌───┐      ░            ░ \nq_0: ┤ H ├──────░────────────░─\n     ├───┤      ░            ░ \nq_1: ┤ H ├──────░───■────────░─\n     ├───┤      ░   │        ░ \nq_2: ┤ H ├──────░───┼────────░─\n     ├───┤      ░   │        ░ \nq_3: ┤ H ├──────░───┼────■───░─\n     ├───┤┌───┐ ░ ┌─┴─┐┌─┴─┐ ░ \nq_4: ┤ X ├┤ H ├─░─┤ X ├┤ X ├─░─\n     └───┘└───┘ ░ └───┘└───┘ ░ \nc: 4/══════════════════════════\n                               "
     },
     "execution_count": 6,
     "metadata": {},
     "output_type": "execute_result"
    }
   ],
   "source": [
    "for idx in range(input_qubits):\n",
    "    if shh[idx] == '1':\n",
    "        qc.cx(idx, input_qubits)\n",
    "\n",
    "qc.barrier()\n",
    "qc.draw()"
   ]
  },
  {
   "cell_type": "markdown",
   "metadata": {},
   "source": [
    "Hasta la primera barrera, nuestros cubits de entrada estan en el estado |+>, en superposicion, si el bit correspondiente es igual a '1', se aplica el cambio de fase de |+> a |->. El ultimo paso es aplicar un segundo set de compuertas de Hadamard, que rotara los cubits de entrada al estado |0> o |1>, dependiendo de si se encontraban en |+> o |1>, respectivamente."
   ]
  },
  {
   "cell_type": "code",
   "execution_count": 7,
   "metadata": {},
   "outputs": [
    {
     "data": {
      "text/html": "<pre style=\"word-wrap: normal;white-space: pre;background: #fff0;line-height: 1.1;font-family: &quot;Courier New&quot;,Courier,monospace\">     ┌───┐      ░            ░ ┌───┐ ░ \nq_0: ┤ H ├──────░────────────░─┤ H ├─░─\n     ├───┤      ░            ░ ├───┤ ░ \nq_1: ┤ H ├──────░───■────────░─┤ H ├─░─\n     ├───┤      ░   │        ░ ├───┤ ░ \nq_2: ┤ H ├──────░───┼────────░─┤ H ├─░─\n     ├───┤      ░   │        ░ ├───┤ ░ \nq_3: ┤ H ├──────░───┼────■───░─┤ H ├─░─\n     ├───┤┌───┐ ░ ┌─┴─┐┌─┴─┐ ░ └───┘ ░ \nq_4: ┤ X ├┤ H ├─░─┤ X ├┤ X ├─░───────░─\n     └───┘└───┘ ░ └───┘└───┘ ░       ░ \nc: 4/══════════════════════════════════\n                                       </pre>",
      "text/plain": "     ┌───┐      ░            ░ ┌───┐ ░ \nq_0: ┤ H ├──────░────────────░─┤ H ├─░─\n     ├───┤      ░            ░ ├───┤ ░ \nq_1: ┤ H ├──────░───■────────░─┤ H ├─░─\n     ├───┤      ░   │        ░ ├───┤ ░ \nq_2: ┤ H ├──────░───┼────────░─┤ H ├─░─\n     ├───┤      ░   │        ░ ├───┤ ░ \nq_3: ┤ H ├──────░───┼────■───░─┤ H ├─░─\n     ├───┤┌───┐ ░ ┌─┴─┐┌─┴─┐ ░ └───┘ ░ \nq_4: ┤ X ├┤ H ├─░─┤ X ├┤ X ├─░───────░─\n     └───┘└───┘ ░ └───┘└───┘ ░       ░ \nc: 4/══════════════════════════════════\n                                       "
     },
     "execution_count": 7,
     "metadata": {},
     "output_type": "execute_result"
    }
   ],
   "source": [
    "for idx in range(input_qubits):\n",
    "    qc.h(idx)\n",
    "\n",
    "qc.barrier()\n",
    "qc.draw()"
   ]
  },
  {
   "cell_type": "markdown",
   "metadata": {},
   "source": [
    "Finalmente, añadimos los operadores de medicion:"
   ]
  },
  {
   "cell_type": "code",
   "execution_count": 8,
   "metadata": {},
   "outputs": [
    {
     "data": {
      "text/html": "<pre style=\"word-wrap: normal;white-space: pre;background: #fff0;line-height: 1.1;font-family: &quot;Courier New&quot;,Courier,monospace\">     ┌───┐      ░            ░ ┌───┐ ░ ┌─┐         \nq_0: ┤ H ├──────░────────────░─┤ H ├─░─┤M├─────────\n     ├───┤      ░            ░ ├───┤ ░ └╥┘┌─┐      \nq_1: ┤ H ├──────░───■────────░─┤ H ├─░──╫─┤M├──────\n     ├───┤      ░   │        ░ ├───┤ ░  ║ └╥┘┌─┐   \nq_2: ┤ H ├──────░───┼────────░─┤ H ├─░──╫──╫─┤M├───\n     ├───┤      ░   │        ░ ├───┤ ░  ║  ║ └╥┘┌─┐\nq_3: ┤ H ├──────░───┼────■───░─┤ H ├─░──╫──╫──╫─┤M├\n     ├───┤┌───┐ ░ ┌─┴─┐┌─┴─┐ ░ └───┘ ░  ║  ║  ║ └╥┘\nq_4: ┤ X ├┤ H ├─░─┤ X ├┤ X ├─░───────░──╫──╫──╫──╫─\n     └───┘└───┘ ░ └───┘└───┘ ░       ░  ║  ║  ║  ║ \nc: 4/═══════════════════════════════════╩══╩══╩══╩═\n                                        0  1  2  3 </pre>",
      "text/plain": "     ┌───┐      ░            ░ ┌───┐ ░ ┌─┐         \nq_0: ┤ H ├──────░────────────░─┤ H ├─░─┤M├─────────\n     ├───┤      ░            ░ ├───┤ ░ └╥┘┌─┐      \nq_1: ┤ H ├──────░───■────────░─┤ H ├─░──╫─┤M├──────\n     ├───┤      ░   │        ░ ├───┤ ░  ║ └╥┘┌─┐   \nq_2: ┤ H ├──────░───┼────────░─┤ H ├─░──╫──╫─┤M├───\n     ├───┤      ░   │        ░ ├───┤ ░  ║  ║ └╥┘┌─┐\nq_3: ┤ H ├──────░───┼────■───░─┤ H ├─░──╫──╫──╫─┤M├\n     ├───┤┌───┐ ░ ┌─┴─┐┌─┴─┐ ░ └───┘ ░  ║  ║  ║ └╥┘\nq_4: ┤ X ├┤ H ├─░─┤ X ├┤ X ├─░───────░──╫──╫──╫──╫─\n     └───┘└───┘ ░ └───┘└───┘ ░       ░  ║  ║  ║  ║ \nc: 4/═══════════════════════════════════╩══╩══╩══╩═\n                                        0  1  2  3 "
     },
     "execution_count": 8,
     "metadata": {},
     "output_type": "execute_result"
    }
   ],
   "source": [
    "qc.measure(range(input_qubits), range(input_qubits))\n",
    "qc.draw()"
   ]
  },
  {
   "cell_type": "code",
   "execution_count": 10,
   "metadata": {},
   "outputs": [
    {
     "data": {
      "image/png": "[encoded data removed]",
      "text/plain": "<Figure size 504x360 with 1 Axes>"
     },
     "execution_count": 10,
     "metadata": {},
     "output_type": "execute_result"
    }
   ],
   "source": [
    "backend = Aer.get_backend('qasm_simulator')\n",
    "result = execute(qc, backend, shots=1024).result()\n",
    "counts = result.get_counts(qc)\n",
    "plot_histogram(counts)"
   ]
  },
  {
   "cell_type": "code",
   "execution_count": 11,
   "metadata": {},
   "outputs": [
    {
     "data": {
      "application/vnd.jupyter.widget-view+json": {
       "model_id": "380659a40c7c4e54930fa3d19331fc5a",
       "version_major": 2,
       "version_minor": 0
      },
      "text/plain": "Accordion(children=(VBox(layout=Layout(max_width='710px', min_width='710px')),), layout=Layout(max_height='500…"
     },
     "metadata": {},
     "output_type": "display_data"
    },
    {
     "data": {
      "application/javascript": "$('div.job_widget')\n        .detach()\n        .appendTo($('#header'))\n        .css({\n            'z-index': 999,\n             'position': 'fixed',\n            'box-shadow': '5px 5px 5px -3px black',\n            'opacity': 0.95,\n            'float': 'left,'\n        })\n        ",
      "text/plain": "<IPython.core.display.Javascript object>"
     },
     "metadata": {},
     "output_type": "display_data"
    }
   ],
   "source": [
    "%qiskit_job_watcher"
   ]
  },
  {
   "cell_type": "code",
   "execution_count": 15,
   "metadata": {},
   "outputs": [
    {
     "name": "stdout",
     "output_type": "stream",
     "text": [
      "least busy backend:  ibmq_belem\n"
     ]
    }
   ],
   "source": [
    "backend = least_busy(provider.backends(filters=lambda x: x.configuration().n_qubits >= 5 and not x.configuration().simulator and x.status().operational==True))\n",
    "print(\"least busy backend: \", backend)"
   ]
  },
  {
   "cell_type": "code",
   "execution_count": 16,
   "metadata": {},
   "outputs": [],
   "source": [
    "backend = provider.get_backend('ibmq_belem')\n",
    "result = execute(qc, backend=backend, shots=1024).result()"
   ]
  },
  {
   "cell_type": "code",
   "execution_count": 17,
   "metadata": {},
   "outputs": [
    {
     "name": "stdout",
     "output_type": "stream",
     "text": [
      "{'0000': 43, '0001': 13, '0010': 100, '0011': 43, '0100': 13, '0101': 4, '0110': 48, '0111': 13, '1000': 66, '1001': 15, '1010': 451, '1011': 53, '1100': 23, '1101': 2, '1110': 124, '1111': 13}\n"
     ]
    },
    {
     "data": {
      "image/png": "[encoded data removed]",
      "text/plain": "<Figure size 504x360 with 1 Axes>"
     },
     "execution_count": 17,
     "metadata": {},
     "output_type": "execute_result"
    }
   ],
   "source": [
    "counts = result.get_counts(qc)\n",
    "print(counts)\n",
    "plot_histogram(counts)"
   ]
  },
  {
   "cell_type": "code",
   "execution_count": 18,
   "metadata": {},
   "outputs": [
    {
     "data": {
      "image/png": "[encoded data removed]",
      "text/plain": "<Figure size 504x360 with 1 Axes>"
     },
     "execution_count": 18,
     "metadata": {},
     "output_type": "execute_result"
    }
   ],
   "source": [
    "# Jobs I ran before\n",
    "backend = provider.get_backend('ibmq_belem')\n",
    "old_job = backend.retrieve_job('61241348bdd6b18b7f028c5c')\n",
    "results = old_job.result()\n",
    "answer = results.get_counts()\n",
    "plot_histogram(answer)"
   ]
  },
  {
   "cell_type": "code",
   "execution_count": null,
   "metadata": {},
   "outputs": [],
   "source": []
  }
 ],
 "metadata": {
  "kernelspec": {
   "display_name": "Python 3.9.5 64-bit",
   "name": "python395jvsc74a57bd0aee8b7b246df8f9039afb4144a1f6fd8d2ca17a180786b69acc140d282b71a49"
  },
  "language_info": {
   "codemirror_mode": {
    "name": "ipython",
    "version": 3
   },
   "file_extension": ".py",
   "mimetype": "text/x-python",
   "name": "python",
   "nbconvert_exporter": "python",
   "pygments_lexer": "ipython3",
   "version": "3.9.5"
  },
  "metadata": {
   "interpreter": {
    "hash": "aee8b7b246df8f9039afb4144a1f6fd8d2ca17a180786b69acc140d282b71a49"
   }
  },
  "orig_nbformat": 2
 },
 "nbformat": 4,
 "nbformat_minor": 2
}