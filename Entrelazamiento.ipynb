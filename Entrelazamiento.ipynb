{
 "cells": [
  {
   "cell_type": "markdown",
   "metadata": {},
   "source": [
    "# Entrelazamiento\n",
    "\n",
    "Como recordatorio, el entrelazamiento es una propiedad cuantica de la materia que se interpreta como dos o mas particulas tienen estados correlacionados.\n",
    "\n",
    "En terminos practicos, esto implica, que si tenemos dos cubits, cuando hacemos una medicion en alguno de ellos, podemos determinar el estado en el que encontraremos el segundo cubit, incluso antes de ejecutar una medicion.\n",
    "\n",
    "En el Notebook de Superposicion, teniamos un sistema de un cubit al que poniamos en superposicion y por lo tanto, un 50/50 de probabilidad de encontrarlo en uno de los dos estados, |0> o |1>.\n",
    "\n",
    "Ahora, si ese mismo cubit estuviera *entrelazado* con otro cubit y ejecutaramos una medicion en alguno de esos cubits, la medicion arrojaria |0> o |1>. Sin embargo, si ejecutaramos una medicion en el segundo cubit (al mismo tiempo o no), el resultado de dicha medicion seria el mismo que arrojo la primera medicion.\n",
    "\n",
    "En las siguientes lineas de codigo, vamos a explorar los resultados que obtenemos cuando los cubits estan entrelazados o no."
   ]
  },
  {
   "cell_type": "code",
   "execution_count": 11,
   "metadata": {},
   "outputs": [],
   "source": [
    "from qiskit.visualization import plot_bloch_multivector, plot_histogram\n",
    "from qiskit import QuantumCircuit\n",
    "from qiskit import Aer, execute"
   ]
  },
  {
   "cell_type": "code",
   "execution_count": 5,
   "metadata": {},
   "outputs": [
    {
     "data": {
      "text/plain": "<qiskit.circuit.instructionset.InstructionSet at 0x16e5c5b50>"
     },
     "execution_count": 5,
     "metadata": {},
     "output_type": "execute_result"
    }
   ],
   "source": [
    "# Primero creamos un circuito con dos cubits, los ponemos en\n",
    "# superposicion y despues ejecutamos una medicion.\n",
    "\n",
    "qc = QuantumCircuit(2,2) # creamos un circuito con 2 cubits y 2 bits clasicos\n",
    "\n",
    "# Añadimos una compuerta de Hadamard a cada uno\n",
    "qc.h(0)\n",
    "qc.h(1)"
   ]
  },
  {
   "cell_type": "code",
   "execution_count": 8,
   "metadata": {},
   "outputs": [
    {
     "data": {
      "text/plain": "<qiskit.circuit.instructionset.InstructionSet at 0x16efeeaf0>"
     },
     "execution_count": 8,
     "metadata": {},
     "output_type": "execute_result"
    }
   ],
   "source": [
    "# Ejecutamos una medicion y asignamos el resultado a los bits clasicos\n",
    "qc.measure([0,1],[0,1])"
   ]
  },
  {
   "cell_type": "code",
   "execution_count": 7,
   "metadata": {},
   "outputs": [
    {
     "data": {
      "text/html": "<pre style=\"word-wrap: normal;white-space: pre;background: #fff0;line-height: 1.1;font-family: &quot;Courier New&quot;,Courier,monospace\">     ┌───┐┌─┐   \nq_0: ┤ H ├┤M├───\n     ├───┤└╥┘┌─┐\nq_1: ┤ H ├─╫─┤M├\n     └───┘ ║ └╥┘\nc: 2/══════╩══╩═\n           0  1 </pre>",
      "text/plain": "     ┌───┐┌─┐   \nq_0: ┤ H ├┤M├───\n     ├───┤└╥┘┌─┐\nq_1: ┤ H ├─╫─┤M├\n     └───┘ ║ └╥┘\nc: 2/══════╩══╩═\n           0  1 "
     },
     "execution_count": 7,
     "metadata": {},
     "output_type": "execute_result"
    }
   ],
   "source": [
    "qc.draw()"
   ]
  },
  {
   "cell_type": "code",
   "execution_count": 12,
   "metadata": {},
   "outputs": [
    {
     "data": {
      "image/png": "[encoded data removed]",
      "text/plain": "<Figure size 504x360 with 1 Axes>"
     },
     "execution_count": 12,
     "metadata": {},
     "output_type": "execute_result"
    }
   ],
   "source": [
    "# Ejecutamos el circuito e imprimimos los resultados\n",
    "backend = Aer.get_backend('qasm_simulator')\n",
    "result = execute(qc, backend, shots=1000).result()\n",
    "counts = result.get_counts(qc)\n",
    "plot_histogram(counts)"
   ]
  },
  {
   "cell_type": "markdown",
   "metadata": {},
   "source": [
    "Entonces, para el caso en el que los cubits no estan entrelazados, observamos los 4 posibles estados de nuestro sistema con probabilidades muy similares que deberian ser muy cercanas al 25%.\n",
    "\n",
    "Ahora vamos a explorar los resultados que obtenemos cuando entrelazamos nuestros cubits, mediante la compuerta de **Control-NOT (CNOT)**.\n",
    "\n",
    "La compuerta de **CNOT** es una compuerta que opera sistemas de cubits multiples. Esta compuerta opera en un cubit basado en el valor de un segundo cubit. Dentro de la terminologia de computacion cuantica, nos referimos a estos cubits como el cubit de **control** y el **target**.\n",
    "\n",
    "La compuerta de **CNOT** entonces actua de manera en la que cuando un cubit esta conectado en forml de control y su valor es 0, el valor del cubit Target no va a cambiar. Sin embargo, si el valor del cubit de control es 1, una rotacion de 180 grados sobre el eje X sera aplicada al cubit target. \n",
    "\n",
    "| Ante s de CNOT |        | Despues de CNOT |         |\n",
    "|----------------|--------|-----------------|---------|\n",
    "| Control        | Target | Control         | Target |\n",
    "| \\|0>           | \\|0>   | \\|0>            | \\|0>    |\n",
    "| \\|0>           | \\|1>   | \\|0>            | \\|1>    |\n",
    "| \\|1>           | \\|0>   | \\|1>            | \\|1>    |\n",
    "| \\|1>           | \\|1>   | \\|1>            | \\|0>    |"
   ]
  },
  {
   "cell_type": "code",
   "execution_count": 13,
   "metadata": {},
   "outputs": [
    {
     "data": {
      "text/html": "<pre style=\"word-wrap: normal;white-space: pre;background: #fff0;line-height: 1.1;font-family: &quot;Courier New&quot;,Courier,monospace\">     ┌───┐     ┌─┐   \nq_0: ┤ H ├──■──┤M├───\n     └───┘┌─┴─┐└╥┘┌─┐\nq_1: ─────┤ X ├─╫─┤M├\n          └───┘ ║ └╥┘\nc: 2/═══════════╩══╩═\n                0  1 </pre>",
      "text/plain": "     ┌───┐     ┌─┐   \nq_0: ┤ H ├──■──┤M├───\n     └───┘┌─┴─┐└╥┘┌─┐\nq_1: ─────┤ X ├─╫─┤M├\n          └───┘ ║ └╥┘\nc: 2/═══════════╩══╩═\n                0  1 "
     },
     "execution_count": 13,
     "metadata": {},
     "output_type": "execute_result"
    }
   ],
   "source": [
    "# Ahora vamos a crear un sistema entrelazado\n",
    "# Empezamos por crear un circuito con 2 cubits y 2 bits clasicos\n",
    "qc = QuantumCircuit(2,2)\n",
    "# Añadimos una compuerta H solo al primer cubit\n",
    "qc.h(0)\n",
    "# Añadimos una ompuerta tipo CNOT para entrelazar los dos cubits.\n",
    "# Aqui, el primer cubit (0) es el control y el segundo (1) es el target.\n",
    "qc.cx(0,1)\n",
    "#Añadimos un operador de medicion y asignamos los resultados a \n",
    "# los bits clasicos\n",
    "qc.measure([0,1],[0,1])\n",
    "\n",
    "qc.draw()\n",
    "\n"
   ]
  },
  {
   "cell_type": "code",
   "execution_count": 14,
   "metadata": {},
   "outputs": [
    {
     "data": {
      "image/png": "[encoded data removed]",
      "text/plain": "<Figure size 504x360 with 1 Axes>"
     },
     "execution_count": 14,
     "metadata": {},
     "output_type": "execute_result"
    }
   ],
   "source": [
    "# Ahora ejecutamos el experimento e imprimimos los resultados\n",
    "result = execute(qc, backend, shots=1000).result()\n",
    "counts = result.get_counts(qc)\n",
    "plot_histogram(counts)"
   ]
  },
  {
   "cell_type": "markdown",
   "metadata": {},
   "source": [
    "Y aqui, observamos dos principios basicos de la mecanica cuantica, la superposicion de los cubits, en los estados 0 y 1,  el entrelazamiento - donde los resultados de medir dos cubits estan correlacionados, de manera que solo observamos los estados 00 o 11."
   ]
  }
 ],
 "metadata": {
  "kernelspec": {
   "display_name": "Python 3.9.5 64-bit",
   "name": "python395jvsc74a57bd0aee8b7b246df8f9039afb4144a1f6fd8d2ca17a180786b69acc140d282b71a49"
  },
  "language_info": {
   "codemirror_mode": {
    "name": "ipython",
    "version": 3
   },
   "file_extension": ".py",
   "mimetype": "text/x-python",
   "name": "python",
   "nbconvert_exporter": "python",
   "pygments_lexer": "ipython3",
   "version": "3.9.5"
  },
  "metadata": {
   "interpreter": {
    "hash": "aee8b7b246df8f9039afb4144a1f6fd8d2ca17a180786b69acc140d282b71a49"
   }
  },
  "orig_nbformat": 2
 },
 "nbformat": 4,
 "nbformat_minor": 2
}