{
 "cells": [
  {
   "cell_type": "markdown",
   "metadata": {},
   "source": [
    "# Mejorando el algoritmo de Deutsch-Jozsa\n",
    "\n",
    "En la sesion anterior exploramos a detalle el algoritmo de Deutsch-Jozsa. Dicho algoritmo nos demuestra como un algoritmo cuantico tiene la posibilidad de ser exponencialmente mas rapido que un algoritmo clasico.\n",
    "\n",
    "Esencialmente, el algoritmo ejecuta una sola evaluacion para determinar si una funcion es de tipo balanceada o constante. Sin embargo, el algoritmo tiene algunas desventajas. Por ejemplo:\n",
    "\n",
    "- El oraculo es completamente diferente para el caso de una funcion balanceada o constante.\n",
    "\n",
    "- Necesitamos mas de un cubit para evaluar la funcion.\n",
    "\n",
    "A continuacion, se presenta una alternativa en la que no necesitamos decidir en el tipo de oraculo que vamos a utilizar."
   ]
  },
  {
   "cell_type": "code",
   "execution_count": 1,
   "metadata": {},
   "outputs": [],
   "source": [
    "from qiskit import QuantumCircuit, QuantumRegister, ClassicalRegister\n",
    "from qiskit import Aer, execute\n",
    "from qiskit.visualization import plot_histogram\n",
    "\n",
    "TOSSES = 3"
   ]
  },
  {
   "cell_type": "markdown",
   "metadata": {},
   "source": [
    "Ahora, crearemos un oraculo generalizado, que toma como entrada dos registros cuanticos y el parametro de configuracion, *config* que contiene una cadena de caracteres consistente de 0s y 1s. Cada digito representa el resultado de la evaluacion de la funcion que pretendemos clasificar.\n",
    "\n",
    "Es decir, si la cadena contiene tres 0s o tres 1s, la funcion es de tipo constante. En el caso de no ser asi, la funcion debe de ser de tipo balanceada."
   ]
  },
  {
   "cell_type": "code",
   "execution_count": 2,
   "metadata": {},
   "outputs": [],
   "source": [
    "def oracle(qr, aux, config):\n",
    "    # Empezamos por crear un sub-circuito\n",
    "    oc = QuantumCircuit(qr, aux)\n",
    "\n",
    "    for pos in range(len(config)):\n",
    "        if config[pos] == '1':\n",
    "            oc.cx(qr[pos], aux)\n",
    "    \n",
    "    # La funcion regresa el oraculo como compuerta\n",
    "    oracle = oc.to_gate()\n",
    "    oracle.name = \"oracle\"\n",
    "    return oracle"
   ]
  },
  {
   "cell_type": "markdown",
   "metadata": {},
   "source": [
    "Dentro de la funcion *oraculo*, evaluamos cada posicion de la cadena de caracteres *config*. Cada vex que uno de los bits en esta cadena es igual a 1, aplicamos la compuerta de *CNOT* donde el target es el cubit auxiliar. El circuito cuantico completo es el siguiente:"
   ]
  },
  {
   "cell_type": "code",
   "execution_count": 3,
   "metadata": {},
   "outputs": [],
   "source": [
    "def create_circuit(config):\n",
    "    qr = QuantumRegister(TOSSES, \"toss\")\n",
    "    aux = QuantumRegister(1, \"aux\")\n",
    "    cr = ClassicalRegister(1, \"cr\")\n",
    "    qc = QuantumCircuit(qr, aux)\n",
    "\n",
    "    # El cubit auxiliar lo rotamos al estado |->\n",
    "    qc.x(aux)\n",
    "    qc.h(aux)\n",
    "\n",
    "    # Los cubits asociados a la variable X los rotamos al estado |+>\n",
    "    qc.h(qr)\n",
    "\n",
    "    # Aplicamos el oraculo\n",
    "    qc. append(oracle(qr, aux, config), [*qr, *aux])\n",
    "\n",
    "    # Sacamos a los cubits de la superposicion\n",
    "    qc.h(qr)\n",
    "    qc.h(aux)\n",
    "    qc.barrier()\n",
    "\n",
    "    # Regresamos al cubit ancilla al estado |0>\n",
    "    qc.x(aux)\n",
    "\n",
    "    # Cambiamos el cubit ancilla a |1> si todos los cubits asociados a X estan en |1>\n",
    "    qc.mcx(qr, aux)\n",
    "\n",
    "    qc.x(qr)\n",
    "    qc.mcx(qr, aux)\n",
    "    qc.x(qr)\n",
    "\n",
    "    return qc"
   ]
  },
  {
   "cell_type": "code",
   "execution_count": 4,
   "metadata": {},
   "outputs": [],
   "source": [
    "qc = create_circuit('000')"
   ]
  },
  {
   "cell_type": "code",
   "execution_count": 5,
   "metadata": {},
   "outputs": [
    {
     "data": {
      "text/html": "<pre style=\"word-wrap: normal;white-space: pre;background: #fff0;line-height: 1.1;font-family: &quot;Courier New&quot;,Courier,monospace\">        ┌───┐     ┌─────────┐┌───┐ ░           ┌───┐     ┌───┐\ntoss_0: ┤ H ├─────┤0        ├┤ H ├─░────────■──┤ X ├──■──┤ X ├\n        ├───┤     │         │├───┤ ░        │  ├───┤  │  ├───┤\ntoss_1: ┤ H ├─────┤1        ├┤ H ├─░────────■──┤ X ├──■──┤ X ├\n        ├───┤     │  oracle │├───┤ ░        │  ├───┤  │  ├───┤\ntoss_2: ┤ H ├─────┤2        ├┤ H ├─░────────■──┤ X ├──■──┤ X ├\n        ├───┤┌───┐│         │├───┤ ░ ┌───┐┌─┴─┐└───┘┌─┴─┐└───┘\n aux_0: ┤ X ├┤ H ├┤3        ├┤ H ├─░─┤ X ├┤ X ├─────┤ X ├─────\n        └───┘└───┘└─────────┘└───┘ ░ └───┘└───┘     └───┘     </pre>",
      "text/plain": "        ┌───┐     ┌─────────┐┌───┐ ░           ┌───┐     ┌───┐\ntoss_0: ┤ H ├─────┤0        ├┤ H ├─░────────■──┤ X ├──■──┤ X ├\n        ├───┤     │         │├───┤ ░        │  ├───┤  │  ├───┤\ntoss_1: ┤ H ├─────┤1        ├┤ H ├─░────────■──┤ X ├──■──┤ X ├\n        ├───┤     │  oracle │├───┤ ░        │  ├───┤  │  ├───┤\ntoss_2: ┤ H ├─────┤2        ├┤ H ├─░────────■──┤ X ├──■──┤ X ├\n        ├───┤┌───┐│         │├───┤ ░ ┌───┐┌─┴─┐└───┘┌─┴─┐└───┘\n aux_0: ┤ X ├┤ H ├┤3        ├┤ H ├─░─┤ X ├┤ X ├─────┤ X ├─────\n        └───┘└───┘└─────────┘└───┘ ░ └───┘└───┘     └───┘     "
     },
     "execution_count": 5,
     "metadata": {},
     "output_type": "execute_result"
    }
   ],
   "source": [
    "qc.draw()"
   ]
  },
  {
   "cell_type": "code",
   "execution_count": 9,
   "metadata": {},
   "outputs": [
    {
     "data": {
      "image/png": "[encoded data removed]",
      "text/plain": "<Figure size 216x144 with 1 Axes>"
     },
     "execution_count": 9,
     "metadata": {},
     "output_type": "execute_result"
    }
   ],
   "source": [
    "# Resultado de una funcion constante 0\n",
    "results = execute(qc,Aer.get_backend('statevector_simulator'),shots=1000).result().get_counts()\n",
    "plot_histogram(results, figsize=(3,2), color=['pink'])"
   ]
  },
  {
   "cell_type": "code",
   "execution_count": 10,
   "metadata": {},
   "outputs": [
    {
     "data": {
      "image/png": "[encoded data removed]",
      "text/plain": "<Figure size 216x144 with 1 Axes>"
     },
     "execution_count": 10,
     "metadata": {},
     "output_type": "execute_result"
    }
   ],
   "source": [
    "# Resultado de una funcion constante 1\n",
    "qc = create_circuit('111')\n",
    "\n",
    "results = execute(qc,Aer.get_backend('statevector_simulator'),shots=1000).result().get_counts()\n",
    "plot_histogram(results, figsize=(3,2), color=['pink'])"
   ]
  },
  {
   "cell_type": "code",
   "execution_count": 11,
   "metadata": {},
   "outputs": [
    {
     "data": {
      "image/png": "[encoded data removed]",
      "text/plain": "<Figure size 216x144 with 1 Axes>"
     },
     "execution_count": 11,
     "metadata": {},
     "output_type": "execute_result"
    }
   ],
   "source": [
    "# Resultado de una funcion balanceada\n",
    "qc = create_circuit('101')\n",
    "\n",
    "results = execute(qc,Aer.get_backend('statevector_simulator'),shots=1000).result().get_counts()\n",
    "plot_histogram(results, figsize=(3,2), color=['pink'])"
   ]
  },
  {
   "cell_type": "markdown",
   "metadata": {},
   "source": [
    "Que tan costoso es aplicar la compuerta de tipo MCX?"
   ]
  },
  {
   "cell_type": "code",
   "execution_count": 16,
   "metadata": {},
   "outputs": [],
   "source": [
    "qc2 = QuantumCircuit(qr, aux)"
   ]
  },
  {
   "cell_type": "code",
   "execution_count": 17,
   "metadata": {},
   "outputs": [
    {
     "data": {
      "text/plain": "<qiskit.circuit.instructionset.InstructionSet at 0x7fa780212a30>"
     },
     "execution_count": 17,
     "metadata": {},
     "output_type": "execute_result"
    }
   ],
   "source": [
    "qr = QuantumRegister(TOSSES, \"toss\")\n",
    "aux = QuantumRegister(1, \"aux\")\n",
    "qc2.mcx(qr,aux)"
   ]
  },
  {
   "cell_type": "code",
   "execution_count": 18,
   "metadata": {},
   "outputs": [
    {
     "data": {
      "text/html": "<pre style=\"word-wrap: normal;white-space: pre;background: #fff0;line-height: 1.1;font-family: &quot;Courier New&quot;,Courier,monospace\">             \ntoss_0: ──■──\n          │  \ntoss_1: ──■──\n          │  \ntoss_2: ──■──\n        ┌─┴─┐\n aux_0: ┤ X ├\n        └───┘</pre>",
      "text/plain": "             \ntoss_0: ──■──\n          │  \ntoss_1: ──■──\n          │  \ntoss_2: ──■──\n        ┌─┴─┐\n aux_0: ┤ X ├\n        └───┘"
     },
     "execution_count": 18,
     "metadata": {},
     "output_type": "execute_result"
    }
   ],
   "source": [
    "qc2.draw()"
   ]
  },
  {
   "cell_type": "code",
   "execution_count": 19,
   "metadata": {},
   "outputs": [],
   "source": [
    "qc2_decomposed = qc2.decompose()"
   ]
  },
  {
   "cell_type": "code",
   "execution_count": 20,
   "metadata": {},
   "outputs": [
    {
     "data": {
      "text/html": "<pre style=\"word-wrap: normal;white-space: pre;background: #fff0;line-height: 1.1;font-family: &quot;Courier New&quot;,Courier,monospace\">        ┌────────┐                                                         »\ntoss_0: ┤ P(π/8) ├────■──────────────────■────────────────────■────────────»\n        ├────────┤  ┌─┴─┐   ┌─────────┐┌─┴─┐                  │            »\ntoss_1: ┤ P(π/8) ├──┤ X ├───┤ P(-π/8) ├┤ X ├──■───────────────┼────────────»\n        ├────────┤  └───┘   └─────────┘└───┘┌─┴─┐┌─────────┐┌─┴─┐┌────────┐»\ntoss_2: ┤ P(π/8) ├──────────────────────────┤ X ├┤ P(-π/8) ├┤ X ├┤ P(π/8) ├»\n        └─┬───┬──┘┌────────┐                └───┘└─────────┘└───┘└────────┘»\n aux_0: ──┤ H ├───┤ P(π/8) ├───────────────────────────────────────────────»\n          └───┘   └────────┘                                               »\n«                                                                            »\n«toss_0: ──────────────────■─────────────────────────────────────────────────»\n«                          │                                                 »\n«toss_1: ──■───────────────┼────────────────────■────────────────────────────»\n«        ┌─┴─┐┌─────────┐┌─┴─┐                  │                            »\n«toss_2: ┤ X ├┤ P(-π/8) ├┤ X ├──■───────────────┼──────────────■─────────────»\n«        └───┘└─────────┘└───┘┌─┴─┐┌─────────┐┌─┴─┐┌────────┐┌─┴─┐┌─────────┐»\n« aux_0: ─────────────────────┤ X ├┤ P(-π/8) ├┤ X ├┤ P(π/8) ├┤ X ├┤ P(-π/8) ├»\n«                             └───┘└─────────┘└───┘└────────┘└───┘└─────────┘»\n«                                                                           »\n«toss_0: ──■─────────────────────────────────────────────────────────────■──»\n«          │                                                             │  »\n«toss_1: ──┼──────────────────────────────■──────────────────────────────┼──»\n«          │                              │                              │  »\n«toss_2: ──┼──────────────■───────────────┼──────────────■───────────────┼──»\n«        ┌─┴─┐┌────────┐┌─┴─┐┌─────────┐┌─┴─┐┌────────┐┌─┴─┐┌─────────┐┌─┴─┐»\n« aux_0: ┤ X ├┤ P(π/8) ├┤ X ├┤ P(-π/8) ├┤ X ├┤ P(π/8) ├┤ X ├┤ P(-π/8) ├┤ X ├»\n«        └───┘└────────┘└───┘└─────────┘└───┘└────────┘└───┘└─────────┘└───┘»\n«             \n«toss_0: ─────\n«             \n«toss_1: ─────\n«             \n«toss_2: ─────\n«        ┌───┐\n« aux_0: ┤ H ├\n«        └───┘</pre>",
      "text/plain": "        ┌────────┐                                                         »\ntoss_0: ┤ P(π/8) ├────■──────────────────■────────────────────■────────────»\n        ├────────┤  ┌─┴─┐   ┌─────────┐┌─┴─┐                  │            »\ntoss_1: ┤ P(π/8) ├──┤ X ├───┤ P(-π/8) ├┤ X ├──■───────────────┼────────────»\n        ├────────┤  └───┘   └─────────┘└───┘┌─┴─┐┌─────────┐┌─┴─┐┌────────┐»\ntoss_2: ┤ P(π/8) ├──────────────────────────┤ X ├┤ P(-π/8) ├┤ X ├┤ P(π/8) ├»\n        └─┬───┬──┘┌────────┐                └───┘└─────────┘└───┘└────────┘»\n aux_0: ──┤ H ├───┤ P(π/8) ├───────────────────────────────────────────────»\n          └───┘   └────────┘                                               »\n«                                                                            »\n«toss_0: ──────────────────■─────────────────────────────────────────────────»\n«                          │                                                 »\n«toss_1: ──■───────────────┼────────────────────■────────────────────────────»\n«        ┌─┴─┐┌─────────┐┌─┴─┐                  │                            »\n«toss_2: ┤ X ├┤ P(-π/8) ├┤ X ├──■───────────────┼──────────────■─────────────»\n«        └───┘└─────────┘└───┘┌─┴─┐┌─────────┐┌─┴─┐┌────────┐┌─┴─┐┌─────────┐»\n« aux_0: ─────────────────────┤ X ├┤ P(-π/8) ├┤ X ├┤ P(π/8) ├┤ X ├┤ P(-π/8) ├»\n«                             └───┘└─────────┘└───┘└────────┘└───┘└─────────┘»\n«                                                                           »\n«toss_0: ──■─────────────────────────────────────────────────────────────■──»\n«          │                                                             │  »\n«toss_1: ──┼──────────────────────────────■──────────────────────────────┼──»\n«          │                              │                              │  »\n«toss_2: ──┼──────────────■───────────────┼──────────────■───────────────┼──»\n«        ┌─┴─┐┌────────┐┌─┴─┐┌─────────┐┌─┴─┐┌────────┐┌─┴─┐┌─────────┐┌─┴─┐»\n« aux_0: ┤ X ├┤ P(π/8) ├┤ X ├┤ P(-π/8) ├┤ X ├┤ P(π/8) ├┤ X ├┤ P(-π/8) ├┤ X ├»\n«        └───┘└────────┘└───┘└─────────┘└───┘└────────┘└───┘└─────────┘└───┘»\n«             \n«toss_0: ─────\n«             \n«toss_1: ─────\n«             \n«toss_2: ─────\n«        ┌───┐\n« aux_0: ┤ H ├\n«        └───┘"
     },
     "execution_count": 20,
     "metadata": {},
     "output_type": "execute_result"
    }
   ],
   "source": [
    "qc2_decomposed.draw()"
   ]
  },
  {
   "cell_type": "code",
   "execution_count": null,
   "metadata": {},
   "outputs": [],
   "source": []
  }
 ],
 "metadata": {
  "kernelspec": {
   "display_name": "Python 3.8.8 64-bit ('base': conda)",
   "name": "python388jvsc74a57bd0dca0ade3e726a953b501b15e8e990130d2b7799f14cfd9f4271676035ebe5511"
  },
  "language_info": {
   "codemirror_mode": {
    "name": "ipython",
    "version": 3
   },
   "file_extension": ".py",
   "mimetype": "text/x-python",
   "name": "python",
   "nbconvert_exporter": "python",
   "pygments_lexer": "ipython3",
   "version": "3.8.8"
  },
  "orig_nbformat": 2
 },
 "nbformat": 4,
 "nbformat_minor": 2
}