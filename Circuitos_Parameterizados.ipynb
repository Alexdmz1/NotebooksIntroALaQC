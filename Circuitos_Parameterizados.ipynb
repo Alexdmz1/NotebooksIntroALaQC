{
 "cells": [
  {
   "cell_type": "markdown",
   "source": [
    "# Entrenando Circuitos Cuanticos Parameterizados"
   ],
   "metadata": {}
  },
  {
   "cell_type": "markdown",
   "source": [
    "En esta sesion vamos a explorar en detalle como entrenar modelos basados en circuitos parameterizados. Al final de esta sesion dominaremos los siguientes temas:\n",
    "\n",
    "- Como construir circuitos variacionales para clasificacion.\n",
    "- Como utilizar diferentes tecnicas de entrenamiento, especificamente basadas en el calculo de gradientes.\n",
    "- Las restricciones asociadas a los circuitos variacionales y como evadirlas."
   ],
   "metadata": {}
  },
  {
   "cell_type": "markdown",
   "source": [
    "## Gradientes\n",
    "\n",
    "Qiskit provee diferentes metodos para calcular el gradiente de los valores esperados. A ccontinuacion exploraremos estos metodos utilizando el *ansatz* o estado parameterizado siguiente: $|\\Psi(\\vec\\theta)\\rangle = U(\\vec\\theta)|0\\rangle$ donde la transformacion unitaria $U(\\vec\\theta)$, corresponde al siguiente circuito:"
   ],
   "metadata": {}
  },
  {
   "cell_type": "code",
   "execution_count": 3,
   "source": [
    "from qiskit.circuit.library import RealAmplitudes\n",
    "\n",
    "ansatz = RealAmplitudes(num_qubits=2, reps=1, entanglement='linear')\n",
    "ansatz.decompose().draw('mpl', style='iqx')"
   ],
   "outputs": [
    {
     "output_type": "execute_result",
     "data": {
      "image/png": "[encoded data removed]",
      "text/plain": [
       "<Figure size 267.052x144.48 with 1 Axes>"
      ]
     },
     "metadata": {},
     "execution_count": 3
    }
   ],
   "metadata": {}
  },
  {
   "cell_type": "markdown",
   "source": [
    "y nuestro Hamiltoniano en este ejemplo es $\\hat H = \\hat Z \\bigotimes \\hat Z$"
   ],
   "metadata": {}
  },
  {
   "cell_type": "code",
   "execution_count": 4,
   "source": [
    "from qiskit.opflow import Z, I\n",
    "\n",
    "hamiltonian = Z ^ Z"
   ],
   "outputs": [],
   "metadata": {}
  },
  {
   "cell_type": "markdown",
   "source": [
    "y combinados, obtenemos $\\langle\\Psi(\\vec\\theta) | \\hat H | \\Psi(\\vec\\theta)\\rangle$, cuyo valor esperado obtenemos mediante la funcion `StateFn` de Qiskit que nos permite representar una funcion de estado o un operador, si activamos el flag de `is_measurement`.\n",
    "\n",
    "La estructura general para un valor esperado de un estado preparado mediante un circuito es la siguiente:\n",
    "\n",
    "    expectation = StateFn(hamiltonian, is_measurement=True) @ StateFn(circuit)\n",
    "    result = expectation.eval()\n",
    "\n",
    "Los comandos arriba utilizan multiplicacion de matrices para evaluar el valor esperado, qu es uneficiente para un numero grande de cubits."
   ],
   "metadata": {}
  },
  {
   "cell_type": "code",
   "execution_count": 5,
   "source": [
    "from qiskit.opflow import StateFn\n",
    "\n",
    "expectation = StateFn(hamiltonian, is_measurement=True) @ StateFn(ansatz)"
   ],
   "outputs": [],
   "metadata": {}
  },
  {
   "cell_type": "markdown",
   "source": [
    "Ahora vamos a fijar un punto $\\vec p$ y un indice $i$ y vamos a evaluar la derivada del valor esperado con respecto al parametro $\\theta_i$ en el punto $\\vec p$, es decir:\n",
    "\n",
    "$$\n",
    "    \\frac{\\partial}{\\partial \\theta_i} \\langle \\Psi(\\vec\\theta) | \\hat H | \\Psi(\\vec\\theta) \\rangle \\bigg\\vert_{\\vec\\theta = \\vec p}\n",
    "$$\n",
    "\n",
    "Escogemos un punto aleatorio $\\vec p$ y el indice $i=2$."
   ],
   "metadata": {}
  },
  {
   "cell_type": "code",
   "execution_count": 6,
   "source": [
    "import numpy as np\n",
    "\n",
    "point = np.random.random(ansatz.num_parameters)\n",
    "index = 2"
   ],
   "outputs": [],
   "metadata": {}
  },
  {
   "cell_type": "markdown",
   "source": [
    "Como alternativa, podemos utilizar un simulador (o un dispositivo cuantico) para evaluar el circuito mediante `CircuitSampler` junto con un conversor a la base de Pauli `PauiExpectation`\n",
    "\n",
    "```python\n",
    "sampler = CircuitSampler(q_instance)  # q_instance is the QuantumInstance from the beginning of the notebook\n",
    "expectation = StateFn(hamiltonian, is_measurement=True) @ StateFn(circuit)\n",
    "in_pauli_basis = PauliExpectation().convert(expectation)\n",
    "result = sampler.convert(in_pauli_basis).eval()\n",
    "```"
   ],
   "metadata": {}
  },
  {
   "cell_type": "code",
   "execution_count": 7,
   "source": [
    "from qiskit import Aer\n",
    "from qiskit.utils import QuantumInstance\n",
    "\n",
    "backend = Aer.get_backend('qasm_simulator')\n",
    "q_instance = QuantumInstance(backend, shots = 8192, seed_simulator = 2718, seed_transpiler = 2718)"
   ],
   "outputs": [],
   "metadata": {}
  },
  {
   "cell_type": "markdown",
   "source": [
    "Como ejemplo, podemos calcular el valor esperado del siguiente Hamiltoniano ``H`` y estado preparado por el circuito ``U`` mediante la multiplicacion de matrices."
   ],
   "metadata": {}
  },
  {
   "cell_type": "code",
   "execution_count": 8,
   "source": [
    "from qiskit.circuit import QuantumCircuit\n",
    "from qiskit.opflow import Z, X\n",
    "\n",
    "H = X ^ X\n",
    "\n",
    "U = QuantumCircuit(2)\n",
    "U.h(0)\n",
    "U.cx(0, 1)\n",
    "\n",
    "expectation = StateFn(H, is_measurement=True) @StateFn(U)\n",
    "matmult_result = expectation.eval()\n",
    "print(matmult_result)"
   ],
   "outputs": [
    {
     "output_type": "stream",
     "name": "stdout",
     "text": [
      "(0.9999999999999998+0j)\n"
     ]
    }
   ],
   "metadata": {}
  },
  {
   "cell_type": "markdown",
   "source": [
    "Ahora, si evaluamos el mismo valor esperado con el simulador de QASM:"
   ],
   "metadata": {}
  },
  {
   "cell_type": "code",
   "execution_count": 9,
   "source": [
    "from qiskit.opflow import CircuitSampler, PauliExpectation\n",
    "\n",
    "sampler = CircuitSampler(q_instance)\n",
    "\n",
    "matmult_expectation = StateFn(H, is_measurement=True) @StateFn(U)\n",
    "in_pauli_basis = PauliExpectation().convert(matmult_expectation)\n",
    "shots_result = sampler.convert(in_pauli_basis).eval()\n",
    "print(shots_result)"
   ],
   "outputs": [
    {
     "output_type": "stream",
     "name": "stdout",
     "text": [
      "(1+0j)\n"
     ]
    }
   ],
   "metadata": {}
  },
  {
   "cell_type": "markdown",
   "source": [
    "## Gradientes de diferencia finita\n",
    "\n",
    "La forma mas sencilla de aproximar la gradiente de una funcion es mediante el metodo de diferencia finita. Este metodos funciona independientemente de la estructura interna, y en algunos casos compleja, de la funcion a evaluar."
   ],
   "metadata": {}
  },
  {
   "cell_type": "code",
   "execution_count": 10,
   "source": [
    "from qiskit.opflow import PauliExpectation, CircuitSampler\n",
    "\n",
    "expectation = StateFn(hamiltonian, is_measurement=True) @ StateFn(ansatz)\n",
    "in_pauli_basis = PauliExpectation().convert(expectation)\n",
    "sampler = CircuitSampler(q_instance)\n",
    "\n",
    "def evaluate_expectation(x):\n",
    "    value_dict = dict(zip(ansatz.parameters, x))\n",
    "    result = sampler.convert(in_pauli_basis, params=value_dict).eval()  \n",
    "    return np.real(result)"
   ],
   "outputs": [],
   "metadata": {}
  },
  {
   "cell_type": "code",
   "execution_count": 11,
   "source": [
    "eps = 0.2\n",
    "e_i = np.identity(point.size)[:, index]  # identity vector with a 1 at index ``index``, otherwise 0\n",
    "\n",
    "plus = point + eps * e_i\n",
    "minus = point - eps * e_i"
   ],
   "outputs": [],
   "metadata": {}
  },
  {
   "cell_type": "code",
   "execution_count": 12,
   "source": [
    "finite_difference = (evaluate_expectation(plus) - evaluate_expectation(minus)) / (2 * eps)\n",
    "\n",
    "print(finite_difference)"
   ],
   "outputs": [
    {
     "output_type": "stream",
     "name": "stdout",
     "text": [
      "-0.3039550781249997\n"
     ]
    }
   ],
   "metadata": {}
  },
  {
   "cell_type": "markdown",
   "source": [
    "En lugar de calcular estas gradientes manualmente, podemos utilizar la funcion `Gradiente` de Qiskit"
   ],
   "metadata": {}
  },
  {
   "cell_type": "code",
   "execution_count": 13,
   "source": [
    "from qiskit.opflow import Gradient\n",
    "\n",
    "expectation = StateFn(hamiltonian, is_measurement=True) @ StateFn(ansatz)\n",
    "shifter = Gradient('fin_diff', analytic=False, epsilon=eps)\n",
    "grad = shifter.convert(expectation, params=ansatz.parameters[index])\n",
    "print(grad)"
   ],
   "outputs": [
    {
     "output_type": "stream",
     "name": "stdout",
     "text": [
      "SummedOp([\n",
      "  2.5 * ComposedOp([\n",
      "    OperatorMeasurement(ZZ),\n",
      "    CircuitStateFn(\n",
      "         ┌────────────────────────────────────────────┐\n",
      "    q_0: ┤0                                           ├\n",
      "         │  RealAmplitudes(θ[0],θ[1],θ[2] + 0.2,θ[3]) │\n",
      "    q_1: ┤1                                           ├\n",
      "         └────────────────────────────────────────────┘\n",
      "    )\n",
      "  ]),\n",
      "  -2.5 * ComposedOp([\n",
      "    OperatorMeasurement(ZZ),\n",
      "    CircuitStateFn(\n",
      "         ┌────────────────────────────────────────────┐\n",
      "    q_0: ┤0                                           ├\n",
      "         │  RealAmplitudes(θ[0],θ[1],θ[2] - 0.2,θ[3]) │\n",
      "    q_1: ┤1                                           ├\n",
      "         └────────────────────────────────────────────┘\n",
      "    )\n",
      "  ])\n",
      "])\n"
     ]
    }
   ],
   "metadata": {}
  },
  {
   "cell_type": "code",
   "execution_count": 14,
   "source": [
    "value_dict = dict(zip(ansatz.parameters, point))\n",
    "sampler.convert(grad, value_dict).eval().real"
   ],
   "outputs": [
    {
     "output_type": "execute_result",
     "data": {
      "text/plain": [
       "-0.018310546875"
      ]
     },
     "metadata": {},
     "execution_count": 14
    }
   ],
   "metadata": {}
  },
  {
   "cell_type": "markdown",
   "source": [
    "En algunos casos, el calculo de gradiente por diferencia finita no es muy exacto, y los resultados pueden ser muy volatiles para cierto tipo de funciones."
   ],
   "metadata": {}
  },
  {
   "cell_type": "markdown",
   "source": [
    "## Gradientes Analiticas\n",
    "\n",
    "Como alternativa, podemos utilizar la regla de `parameter shift`, que es una formula para gradientes de funciones basadas en circuitos cuanticos."
   ],
   "metadata": {}
  },
  {
   "cell_type": "code",
   "execution_count": 15,
   "source": [
    "eps = np.pi / 2\n",
    "e_i = np.identity(point.size)[:, index]  # identity vector with a 1 at index ``index``, otherwise 0\n",
    "\n",
    "plus = point + eps * e_i\n",
    "minus = point - eps * e_i\n",
    "\n",
    "finite_difference = (evaluate_expectation(plus) - evaluate_expectation(minus)) / 2\n",
    "\n",
    "print(finite_difference)"
   ],
   "outputs": [
    {
     "output_type": "stream",
     "name": "stdout",
     "text": [
      "-0.2932128906250001\n"
     ]
    }
   ],
   "metadata": {}
  },
  {
   "cell_type": "code",
   "execution_count": 16,
   "source": [
    "expectation = StateFn(hamiltonian, is_measurement=True) @ StateFn(ansatz)\n",
    "shifter = Gradient()  # parameter-shift rule is the default\n",
    "grad = shifter.convert(expectation, params=ansatz.parameters[index])\n",
    "sampler.convert(grad, value_dict).eval().real"
   ],
   "outputs": [
    {
     "output_type": "execute_result",
     "data": {
      "text/plain": [
       "-0.29833984375"
      ]
     },
     "metadata": {},
     "execution_count": 16
    }
   ],
   "metadata": {}
  },
  {
   "cell_type": "markdown",
   "source": [
    "ahora vamos a optimizar esta gradiente, empezando por fijar un punto inicial, para efectos de reproducibilidad."
   ],
   "metadata": {}
  },
  {
   "cell_type": "code",
   "execution_count": 17,
   "source": [
    "# initial_point = np.random.random(ansatz.num_parameters)\n",
    "initial_point = np.array([0.43253681, 0.09507794, 0.42805949, 0.34210341])"
   ],
   "outputs": [],
   "metadata": {}
  },
  {
   "cell_type": "markdown",
   "source": [
    "similar a la funcion que utilizamos para evaluar el valor esperado, necesitamos una funcion para evaluar la gradiente:"
   ],
   "metadata": {}
  },
  {
   "cell_type": "code",
   "execution_count": 18,
   "source": [
    "expectation = StateFn(hamiltonian, is_measurement=True).compose(StateFn(ansatz))  \n",
    "gradient = Gradient().convert(expectation)\n",
    "gradient_in_pauli_basis = PauliExpectation().convert(gradient)\n",
    "sampler = CircuitSampler(q_instance)\n",
    "\n",
    "def evaluate_gradient(x):\n",
    "    value_dict = dict(zip(ansatz.parameters, x))\n",
    "    result = sampler.convert(gradient_in_pauli_basis, params=value_dict).eval()  # add parameters in here!\n",
    "    return np.real(result)    "
   ],
   "outputs": [],
   "metadata": {}
  },
  {
   "cell_type": "markdown",
   "source": [
    "definimos la funcion de 'callback':"
   ],
   "metadata": {}
  },
  {
   "cell_type": "code",
   "execution_count": 19,
   "source": [
    "from qiskit.algorithms.optimizers import GradientDescent\n",
    "\n",
    "gd_loss = []\n",
    "def gd_callback(nfevs, x, fx, stepsize):\n",
    "    gd_loss.append(fx)\n",
    "    \n",
    "gd = GradientDescent(maxiter=300, learning_rate=0.01, callback=gd_callback)"
   ],
   "outputs": [],
   "metadata": {}
  },
  {
   "cell_type": "markdown",
   "source": [
    "ahora empezamos el proceso de optimizacion y graficamos la funcion de perdida:"
   ],
   "metadata": {}
  },
  {
   "cell_type": "code",
   "execution_count": 20,
   "source": [
    "x_opt, fx_opt, nfevs = gd.optimize(initial_point.size,    # number of parameters\n",
    "                                   evaluate_expectation,  # function to minimize\n",
    "                                   gradient_function=evaluate_gradient,  # function to evaluate the gradient\n",
    "                                   initial_point=initial_point)  # initial point"
   ],
   "outputs": [],
   "metadata": {}
  },
  {
   "cell_type": "code",
   "execution_count": 21,
   "source": [
    "import matplotlib \n",
    "import matplotlib.pyplot as plt\n",
    "matplotlib.rcParams['font.size'] = 14\n",
    "\n",
    "plt.figure(figsize=(12, 6))\n",
    "plt.plot(gd_loss, label='vanilla gradient descent')\n",
    "plt.axhline(-1, ls='--', c='tab:red', label='target')\n",
    "plt.ylabel('loss')\n",
    "plt.xlabel('iterations')\n",
    "plt.legend();"
   ],
   "outputs": [
    {
     "output_type": "display_data",
     "data": {
      "image/png": "[encoded data removed]",
      "text/plain": [
       "<Figure size 864x432 with 1 Axes>"
      ]
     },
     "metadata": {
      "needs_background": "light"
     }
    }
   ],
   "metadata": {}
  },
  {
   "cell_type": "markdown",
   "source": [
    "## Como podemos utilizar estas herramientas en VQC/QNNs?"
   ],
   "metadata": {}
  },
  {
   "cell_type": "markdown",
   "source": [
    "### Generacion de datos\n",
    "Utilizaremos un conjunto de datos artificial en el paquete de ML de Qiskit. Los datos consisten en elementos con dimension 2, que son relativamente sencillos de utilizar en un modelo de aprendizaje automatico."
   ],
   "metadata": {}
  },
  {
   "cell_type": "code",
   "execution_count": 29,
   "source": [
    "from qiskit_machine_learning.datasets import ad_hoc_data\n",
    "\n",
    "training_features, training_labels, test_features, test_labels = ad_hoc_data(\n",
    "    training_size=20, test_size=10, n=2, one_hot=False, gap=0.5\n",
    ")\n",
    "\n",
    "# las etiquetas de entrenamiento son {0, 1} pero las cambiamos a {-1, 1}\n",
    "training_labels = 2 * training_labels - 1\n",
    "test_labels = 2 * test_labels - 1"
   ],
   "outputs": [],
   "metadata": {}
  },
  {
   "cell_type": "code",
   "execution_count": 32,
   "source": [
    "def plot_sampled_data():\n",
    "    from matplotlib.patches import Patch\n",
    "    from matplotlib.lines import Line2D\n",
    "    import matplotlib.pyplot as plt\n",
    "\n",
    "    plt.figure(figsize=(12,6))\n",
    "\n",
    "    for feature, label in zip(training_features, training_labels):\n",
    "        marker = 'o' \n",
    "        color = 'tab:green' if label == -1 else 'tab:blue'\n",
    "        plt.scatter(feature[0], feature[1], marker=marker, s=100, color=color)\n",
    "    \n",
    "    for feature, label in zip(test_features, test_labels):\n",
    "        marker = 's' \n",
    "        plt.scatter(feature[0], feature[1], marker=marker, s=100, facecolor='none', edgecolor='k')\n",
    "    \n",
    "    legend_elements = [\n",
    "        Line2D([0], [0], marker='o', c='w', mfc='tab:green', label='A', ms=15),\n",
    "        Line2D([0], [0], marker='o', c='w', mfc='tab:blue', label='B', ms=15),\n",
    "        Line2D([0], [0], marker='s', c='w', mfc='none', mec='k', label='Validacion', ms=10)\n",
    "    ]\n",
    "\n",
    "    plt.legend(handles=legend_elements, bbox_to_anchor=(1, 0.6))\n",
    "    \n",
    "    plt.title('Datos de entrenamiento y validacion')\n",
    "    plt.xlabel('$x$')\n",
    "    plt.ylabel('$y$')\n",
    "    \n",
    "plot_sampled_data()"
   ],
   "outputs": [
    {
     "output_type": "display_data",
     "data": {
      "image/png": "[encoded data removed]",
      "text/plain": [
       "<Figure size 864x432 with 1 Axes>"
      ]
     },
     "metadata": {
      "needs_background": "light"
     }
    }
   ],
   "metadata": {}
  },
  {
   "cell_type": "markdown",
   "source": [
    "Ahora vamos a construir un circuito variacional de clasificacion (VQC), para ello necesitamos:\n",
    "\n",
    "- un feature map para codificar los datos\n",
    "- una funcion Ansatz para entrenar\n",
    "- una observable para evaluar"
   ],
   "metadata": {}
  },
  {
   "cell_type": "code",
   "execution_count": 34,
   "source": [
    "from qiskit.circuit.library import ZZFeatureMap\n",
    "\n",
    "dim = 2\n",
    "feature_map = ZZFeatureMap(dim, reps=1)  \n",
    "feature_map.decompose().draw('mpl', style='iqx')"
   ],
   "outputs": [
    {
     "output_type": "execute_result",
     "data": {
      "image/png": "[encoded data removed]",
      "text/plain": [
       "<Figure size 507.852x144.48 with 1 Axes>"
      ]
     },
     "metadata": {},
     "execution_count": 34
    }
   ],
   "metadata": {}
  },
  {
   "cell_type": "markdown",
   "source": [
    "como no necesitamos las amplitudes complejas, vamos a construir un ansatz con solo amplitudes reales."
   ],
   "metadata": {}
  },
  {
   "cell_type": "code",
   "execution_count": 36,
   "source": [
    "ansatz = RealAmplitudes(num_qubits=dim, entanglement='linear', reps=1)  # also simple here!\n",
    "ansatz.decompose().draw('mpl', style='iqx')"
   ],
   "outputs": [
    {
     "output_type": "execute_result",
     "data": {
      "image/png": "[encoded data removed]",
      "text/plain": [
       "<Figure size 267.052x144.48 with 1 Axes>"
      ]
     },
     "metadata": {},
     "execution_count": 36
    }
   ],
   "metadata": {}
  },
  {
   "cell_type": "markdown",
   "source": [
    "conectando los dos circuitos:"
   ],
   "metadata": {}
  },
  {
   "cell_type": "code",
   "execution_count": 38,
   "source": [
    "circuit = feature_map.compose(ansatz)\n",
    "circuit.decompose().draw('mpl', style='iqx')"
   ],
   "outputs": [
    {
     "output_type": "execute_result",
     "data": {
      "image/png": "[encoded data removed]",
      "text/plain": [
       "<Figure size 688.452x144.48 with 1 Axes>"
      ]
     },
     "metadata": {},
     "execution_count": 38
    }
   ],
   "metadata": {}
  },
  {
   "cell_type": "markdown",
   "source": [
    "vamos a utilizar los operadores $\\bigotimes_{i} \\hat Z_i$ para calcular los valores esperados:"
   ],
   "metadata": {}
  },
  {
   "cell_type": "code",
   "execution_count": 39,
   "source": [
    "hamiltonian = Z ^ Z "
   ],
   "outputs": [],
   "metadata": {}
  },
  {
   "cell_type": "markdown",
   "source": [
    "## Clasificacion de datos\n",
    "\n",
    "Ahora que entendemos cuales son los componentes, podemos proceder con la clasificacion de los datos. Utilizaremos el paquete de Qiskit ML, especificamente la clase `OpflowQNN` para describir el circuito y el valor esperado junto con el clasificador `NeuralNetworkClassifier` para el entrenamiento."
   ],
   "metadata": {}
  },
  {
   "cell_type": "code",
   "execution_count": 40,
   "source": [
    "gd_qnn_loss = []\n",
    "def gd_qnn_callback(*args):\n",
    "    gd_qnn_loss.append(args[2])\n",
    "    \n",
    "gd = GradientDescent(maxiter=100, learning_rate=0.01, callback=gd_qnn_callback)"
   ],
   "outputs": [],
   "metadata": {}
  },
  {
   "cell_type": "code",
   "execution_count": 41,
   "source": [
    "from qiskit_machine_learning.neural_networks import OpflowQNN\n",
    "\n",
    "qnn_expectation = StateFn(hamiltonian, is_measurement=True) @ StateFn(circuit)\n",
    "\n",
    "qnn = OpflowQNN(qnn_expectation, \n",
    "                input_params=list(feature_map.parameters), \n",
    "                weight_params=list(ansatz.parameters),\n",
    "                exp_val=PauliExpectation(),\n",
    "                gradient=Gradient(),  # <-- Parameter-Shift gradients\n",
    "                quantum_instance=q_instance)"
   ],
   "outputs": [],
   "metadata": {}
  },
  {
   "cell_type": "markdown",
   "source": [
    "Ahora podemos definir el clasificador, que toma el quantum neural network, la funcion de perdida y el optimizador."
   ],
   "metadata": {}
  },
  {
   "cell_type": "code",
   "execution_count": 42,
   "source": [
    "from qiskit_machine_learning.algorithms import NeuralNetworkClassifier\n",
    "#initial_point = np.array([0.2, 0.1, 0.3, 0.4])\n",
    "classifier = NeuralNetworkClassifier(qnn, optimizer=gd)"
   ],
   "outputs": [],
   "metadata": {}
  },
  {
   "cell_type": "markdown",
   "source": [
    "y entrenamos el modelo:"
   ],
   "metadata": {}
  },
  {
   "cell_type": "code",
   "execution_count": 43,
   "source": [
    "classifier.fit(training_features, training_labels);"
   ],
   "outputs": [],
   "metadata": {}
  },
  {
   "cell_type": "markdown",
   "source": [
    "para predecir las etiquetas para los valores de validacion, utilizamos el metodo `predict`"
   ],
   "metadata": {}
  },
  {
   "cell_type": "code",
   "execution_count": 44,
   "source": [
    "predicted = classifier.predict(test_features)"
   ],
   "outputs": [],
   "metadata": {}
  },
  {
   "cell_type": "code",
   "execution_count": 45,
   "source": [
    "def plot_predicted():\n",
    "    from matplotlib.lines import Line2D\n",
    "    plt.figure(figsize=(12, 6))\n",
    "\n",
    "    for feature, label in zip(training_features, training_labels):\n",
    "        marker = 'o' \n",
    "        color = 'tab:green' if label == -1 else 'tab:blue'\n",
    "        plt.scatter(feature[0], feature[1], marker=marker, s=100, color=color)\n",
    "    \n",
    "    for feature, label, pred in zip(test_features, test_labels, predicted):\n",
    "        marker = 's' \n",
    "        color = 'tab:green' if pred == -1 else 'tab:blue'\n",
    "        if label != pred:  # mark wrongly classified\n",
    "            plt.scatter(feature[0], feature[1], marker='o', s=500, linewidths=2.5,\n",
    "                        facecolor='none', edgecolor='tab:red')\n",
    "\n",
    "        plt.scatter(feature[0], feature[1], marker=marker, s=100, color=color)\n",
    "    \n",
    "    legend_elements = [\n",
    "        Line2D([0], [0], marker='o', c='w', mfc='tab:green', label='A', ms=15),\n",
    "        Line2D([0], [0], marker='o', c='w', mfc='tab:blue', label='B', ms=15),\n",
    "        Line2D([0], [0], marker='s', c='w', mfc='tab:green', label='predict A', ms=10),\n",
    "        Line2D([0], [0], marker='s', c='w', mfc='tab:blue', label='predict B', ms=10),\n",
    "        Line2D([0], [0], marker='o', c='w', mfc='none', mec='tab:red', label='wrongly classified', mew=2, ms=15)\n",
    "    ]\n",
    "\n",
    "    plt.legend(handles=legend_elements, bbox_to_anchor=(1, 0.7))\n",
    "    \n",
    "    plt.title('Training & test data')\n",
    "    plt.xlabel('$x$')\n",
    "    plt.ylabel('$y$')\n",
    "    \n",
    "plot_predicted()"
   ],
   "outputs": [
    {
     "output_type": "display_data",
     "data": {
      "image/png": "[encoded data removed]",
      "text/plain": [
       "<Figure size 864x432 with 1 Axes>"
      ]
     },
     "metadata": {
      "needs_background": "light"
     }
    }
   ],
   "metadata": {}
  },
  {
   "cell_type": "markdown",
   "source": [
    "### Limitaciones en el entrenamiento de circuitos\n",
    "\n",
    "Hasta ahora, hemos comprobado que nuestro algoritmo funciona para los modelos de escala pequeña. Pero, que podemos esperar si incrementamos el numero de cubits? Para investigarlo, vamos a investigar que pasa si estudiamos la varianza de la gradiente para modelos de diferente tamaño. La idea es simple, si la varianza es muy pequeña, no tenemos suficiente informacion para actualizar nuestros parametros."
   ],
   "metadata": {}
  },
  {
   "cell_type": "code",
   "execution_count": 49,
   "source": [
    "from qiskit.opflow import I\n",
    "\n",
    "def sample_gradients(num_qubits, reps, local=False):\n",
    "    \"\"\"Estudiamos la gradiente de nuestro modelo de ``num_qubits`` cubits y ``reps`` repeticiones.\n",
    "    \n",
    "    Ejecutamos el circuito 100 veces para parametros aleatorios y calculamos\n",
    "    la gradiente para la primer compuerta RY\n",
    "    \"\"\"\n",
    "    index = num_qubits - 1\n",
    "    if local:\n",
    "        operator = Z ^ Z ^ (I ^ (num_qubits - 2))\n",
    "    else:\n",
    "        operator = Z ^ num_qubits\n",
    "    \n",
    "    # real amplitudes ansatz\n",
    "    ansatz = RealAmplitudes(num_qubits, entanglement='linear', reps=reps)\n",
    "\n",
    "    # construimos la gradiente que queremos evaluar para diferentes valores\n",
    "    expectation = StateFn(operator, is_measurement=True).compose(StateFn(ansatz))\n",
    "    grad = Gradient().convert(expectation, params=ansatz.parameters[index])\n",
    "    \n",
    "    # evaluar para 100 diferentes parametros\n",
    "    num_points = 100\n",
    "    grads = []\n",
    "    for _ in range(num_points):\n",
    "        # los puntos se eligen aleatoriamente entre [0, pi]\n",
    "        point = np.random.uniform(0, np.pi, ansatz.num_parameters)\n",
    "        value_dict = dict(zip(ansatz.parameters, point))\n",
    "        grads.append(sampler.convert(grad, value_dict).eval())\n",
    "        \n",
    "    return grads"
   ],
   "outputs": [],
   "metadata": {}
  },
  {
   "cell_type": "code",
   "execution_count": 50,
   "source": [
    "num_qubits = list(range(2, 13))\n",
    "reps = num_qubits  # numero de capas = numero de cubits\n",
    "gradients = [sample_gradients(n, r) for n, r in zip(num_qubits, reps)]  "
   ],
   "outputs": [],
   "metadata": {}
  },
  {
   "cell_type": "code",
   "execution_count": 51,
   "source": [
    "fit = np.polyfit(num_qubits, np.log(np.var(gradients, axis=1)), deg=1)\n",
    "x = np.linspace(num_qubits[0], num_qubits[-1], 200)\n",
    "\n",
    "plt.figure(figsize=(12, 6))\n",
    "plt.semilogy(num_qubits, np.var(gradients, axis=1), 'o-', label='Varianza medida')\n",
    "plt.semilogy(x, np.exp(fit[0] * x + fit[1]), 'r--', label=f'fit exponencial w/ {fit[0]:.2f}')\n",
    "plt.xlabel('numero de cubits')\n",
    "plt.ylabel(r'$\\mathrm{Var}[\\partial_{\\theta 1} \\langle E(\\theta) \\rangle]$')\n",
    "plt.legend(loc='best');"
   ],
   "outputs": [
    {
     "output_type": "display_data",
     "data": {
      "image/png": "[encoded data removed]",
      "text/plain": [
       "<Figure size 864x432 with 1 Axes>"
      ]
     },
     "metadata": {
      "needs_background": "light"
     }
    }
   ],
   "metadata": {}
  },
  {
   "cell_type": "code",
   "execution_count": null,
   "source": [],
   "outputs": [],
   "metadata": {}
  }
 ],
 "metadata": {
  "orig_nbformat": 4,
  "language_info": {
   "name": "python",
   "version": "3.8.8",
   "mimetype": "text/x-python",
   "codemirror_mode": {
    "name": "ipython",
    "version": 3
   },
   "pygments_lexer": "ipython3",
   "nbconvert_exporter": "python",
   "file_extension": ".py"
  },
  "kernelspec": {
   "name": "python3",
   "display_name": "Python 3.8.8 64-bit ('base': conda)"
  },
  "interpreter": {
   "hash": "dca0ade3e726a953b501b15e8e990130d2b7799f14cfd9f4271676035ebe5511"
  }
 },
 "nbformat": 4,
 "nbformat_minor": 2
}