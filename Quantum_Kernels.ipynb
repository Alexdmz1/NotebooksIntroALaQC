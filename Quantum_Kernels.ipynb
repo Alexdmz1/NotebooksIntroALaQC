{
 "cells": [
  {
   "cell_type": "markdown",
   "source": [
    "# Quantum Kernels\n",
    "En este Notebook, vamos a aprender como implementar quantum feature maps y quantum kernels para su aplicacion en la clasificacion mediante vectores de soporte en Qiskit."
   ],
   "metadata": {}
  },
  {
   "cell_type": "code",
   "execution_count": 1,
   "source": [
    "import numpy as np\n",
    "\n",
    "import matplotlib.pyplot as plt\n",
    "\n",
    "# Asegurarse de instalar sklearn\n",
    "from sklearn import datasets\n",
    "from sklearn.model_selection import train_test_split\n",
    "from sklearn.svm import SVC\n",
    "from sklearn.decomposition import PCA\n",
    "from sklearn.preprocessing import StandardScaler, MinMaxScaler\n",
    "\n",
    "from qiskit import Aer, execute\n",
    "from qiskit.circuit import QuantumCircuit, Parameter, ParameterVector\n",
    "from qiskit.circuit.library import PauliFeatureMap, ZFeatureMap, ZZFeatureMap\n",
    "from qiskit.circuit.library import TwoLocal, NLocal, RealAmplitudes, EfficientSU2\n",
    "from qiskit.circuit.library import HGate, RXGate, RYGate, RZGate, CXGate, CRXGate, CRZGate\n",
    "# Asegurarse de instalar el paquete de qiskit_machine_learning\n",
    "# pip install qiskit-machine-learning\n",
    "from qiskit_machine_learning.kernels import QuantumKernel"
   ],
   "outputs": [],
   "metadata": {}
  },
  {
   "cell_type": "markdown",
   "source": [
    "## Los datos\n",
    "\n",
    "Los datos que vamos a utilizar en este Notebook son un subset del [handwritten digits dataset](https://scikit-learn.org/stable/datasets/toy_dataset.html#digits-dataset), que esta disponible por medio de `scikit-learn`. La meta es diferenciar entre los digitos '0' y '1'."
   ],
   "metadata": {}
  },
  {
   "cell_type": "code",
   "execution_count": 2,
   "source": [
    "# Empezamos cargando el dataset del modulo 'dataset' de sklearn\n",
    "digits = datasets.load_digits(n_class=2)\n",
    "\n",
    "# Vamos a graficar un ejemplo de los digitos '0' and '1'\n",
    "fig, axs = plt.subplots(1, 2, figsize=(6,3))\n",
    "axs[0].set_axis_off()\n",
    "axs[0].imshow(digits.images[0], cmap=plt.cm.gray_r, interpolation='nearest')\n",
    "axs[1].set_axis_off()\n",
    "axs[1].imshow(digits.images[1], cmap=plt.cm.gray_r, interpolation='nearest')\n",
    "plt.show()"
   ],
   "outputs": [
    {
     "output_type": "display_data",
     "data": {
      "image/png": "[encoded data removed]",
      "text/plain": [
       "<Figure size 432x216 with 2 Axes>"
      ]
     },
     "metadata": {
      "needs_background": "light"
     }
    }
   ],
   "metadata": {}
  },
  {
   "cell_type": "markdown",
   "source": [
    "## Pre-procesamiento de los datos\n",
    "El dataset contiene 360 elementos. Cada elemento consiste en una imagen de dimension 8x8 de un digito, en su representacion en forma de un array o un vector multi-dimensional, donde cada elemento de dicho vector es un entero en el rango 0 (blanco) y 16 (negro). A continuacion, detallaremos el proceso de pre-procesamiento:\n",
    "\n",
    "- El primer paso en el pre-procesamiento de los datos es crear dos subconjuntos de datos, el de entrenamiento, con 100 elementos y el de verificacion, con 20 elementos.\n",
    "\n",
    "- El siguiente paso es el de ajustar la escala de los valores de blanco/negro al rango -1 y 1 para poder utilizar los datos en un modelo de clasificacion binaria.\n",
    "\n",
    "- Ademas, necesitamos reducir la dimensionalidad de los datos para que iguale el numero de cubits que podemos emplear en nuestro modelo (en este caso, 4).\n"
   ],
   "metadata": {}
  },
  {
   "cell_type": "code",
   "execution_count": 3,
   "source": [
    "# Crear dos subconjuntos de datos: de entrenamiento y de validacion\n",
    "sample_train, sample_test, label_train, label_test = train_test_split(\n",
    "     digits.data, digits.target, test_size=0.2, random_state=22)"
   ],
   "outputs": [],
   "metadata": {}
  },
  {
   "cell_type": "code",
   "execution_count": 4,
   "source": [
    "sample_test.shape"
   ],
   "outputs": [
    {
     "output_type": "execute_result",
     "data": {
      "text/plain": [
       "(72, 64)"
      ]
     },
     "metadata": {},
     "execution_count": 4
    }
   ],
   "metadata": {}
  },
  {
   "cell_type": "code",
   "execution_count": 5,
   "source": [
    "# Reducir la dimensionalidad mediante el metodo PCA\n",
    "n_dim = 4\n",
    "pca = PCA(n_components=n_dim).fit(sample_train)\n",
    "sample_train = pca.transform(sample_train)\n",
    "sample_test = pca.transform(sample_test)"
   ],
   "outputs": [],
   "metadata": {}
  },
  {
   "cell_type": "code",
   "execution_count": 6,
   "source": [
    "sample_test.shape"
   ],
   "outputs": [
    {
     "output_type": "execute_result",
     "data": {
      "text/plain": [
       "(72, 4)"
      ]
     },
     "metadata": {},
     "execution_count": 6
    }
   ],
   "metadata": {}
  },
  {
   "cell_type": "code",
   "execution_count": 7,
   "source": [
    "sample_test[0]"
   ],
   "outputs": [
    {
     "output_type": "execute_result",
     "data": {
      "text/plain": [
       "array([ 15.74766818, -19.51605279,  27.74617746,  -5.94523814])"
      ]
     },
     "metadata": {},
     "execution_count": 7
    }
   ],
   "metadata": {}
  },
  {
   "cell_type": "code",
   "execution_count": 8,
   "source": [
    "# Normalizacion\n",
    "# Este metodo, es necesario para modelos de tipo support vector, que esperan\n",
    "# que los datos esten centrados sobre 0.\n",
    "std_scale = StandardScaler().fit(sample_train)\n",
    "sample_train = std_scale.transform(sample_train)\n",
    "sample_test = std_scale.transform(sample_test)"
   ],
   "outputs": [],
   "metadata": {}
  },
  {
   "cell_type": "code",
   "execution_count": 9,
   "source": [
    "sample_test[0]"
   ],
   "outputs": [
    {
     "output_type": "execute_result",
     "data": {
      "text/plain": [
       "array([ 0.71418217, -1.53067877,  2.71723432, -0.80572754])"
      ]
     },
     "metadata": {},
     "execution_count": 9
    }
   ],
   "metadata": {}
  },
  {
   "cell_type": "code",
   "execution_count": 10,
   "source": [
    "# Ajustar el rango a -1,1\n",
    "samples = np.append(sample_train, sample_test, axis=0)\n",
    "minmax_scale = MinMaxScaler((-1, 1)).fit(samples)\n",
    "sample_train = minmax_scale.transform(sample_train)\n",
    "sample_test = minmax_scale.transform(sample_test)"
   ],
   "outputs": [],
   "metadata": {}
  },
  {
   "cell_type": "code",
   "execution_count": 11,
   "source": [
    "sample_test[0]"
   ],
   "outputs": [
    {
     "output_type": "execute_result",
     "data": {
      "text/plain": [
       "array([ 0.41948352, -0.83602799,  0.72200828, -0.373356  ])"
      ]
     },
     "metadata": {},
     "execution_count": 11
    }
   ],
   "metadata": {}
  },
  {
   "cell_type": "code",
   "execution_count": 12,
   "source": [
    "# Seleccionar 100 elementos del conjunto de entrenamiento y 20 de validacion\n",
    "train_size = 100\n",
    "sample_train = sample_train[:train_size]\n",
    "label_train = label_train[:train_size]\n",
    "\n",
    "test_size = 20\n",
    "sample_test = sample_test[:test_size]\n",
    "label_test = label_test[:test_size]"
   ],
   "outputs": [],
   "metadata": {}
  },
  {
   "cell_type": "code",
   "execution_count": 13,
   "source": [
    "print(sample_train[0], label_train[0])\n",
    "print(sample_test[0], label_test[0])"
   ],
   "outputs": [
    {
     "output_type": "stream",
     "name": "stdout",
     "text": [
      "[-0.79923362 -0.26571862 -0.16474421 -0.17815209] 0\n",
      "[ 0.41948352 -0.83602799  0.72200828 -0.373356  ] 1\n"
     ]
    }
   ],
   "metadata": {}
  },
  {
   "cell_type": "markdown",
   "source": [
    "## Codificacion de datos\n",
    "Recordamos que los datos de entrenamiento son clasicos y necesitamos codificarlos en un estado cuantico, utilizando, por ejemplo un `quantum feature map`. La seleccion del tipo de *feature map* a utilizar es crucial y depende del tipo de datos que necesitamos clasificar.\n",
    "\n",
    "En este Notebook, vamos a utilizar los feature maps disponibles en Qiskit, antes de seleccionar uno y personalizarlo para codificar nuestros datos."
   ],
   "metadata": {}
  },
  {
   "cell_type": "markdown",
   "source": [
    "### Quantum Feature Maps\n",
    "Un *quantum feature map* $\\phi(\\mathbf{x})$ es una transformacion del vector de caracteristicas clasico $\\mathbf{x}$ al estado cuantico $|\\Phi(\\mathbf{x})\\rangle\\langle\\Phi(\\mathbf{x})|$. Dicha transformacion es mediada por la transformacion unitaria $\\mathcal{U}_{\\Phi(\\mathbf{x})}$ en el estado inicial $|0\\rangle^{n}$ donde _n_ es el numero de cubits utilizados para la codificacion.\n",
    "\n",
    "Los *feature maps* disponibles en Qiskit son los siguientes:\n",
    "\n",
    "- [`PauliFeatureMap`](https://qiskit.org/documentation/stubs/qiskit.circuit.library.PauliFeatureMap.html) \n",
    "- [`ZZFeatureMap`](https://qiskit.org/documentation/stubs/qiskit.circuit.library.ZFeatureMap.html)\n",
    "- [`ZFeatureMap`](https://qiskit.org/documentation/stubs/qiskit.circuit.library.ZZFeatureMap.html)\n",
    "\n",
    "y fueron desarrollados como parte del trabajo detallado en el articulo:  [_Havlicek et al_.  Nature **567**, 209-212 (2019)](https://www.nature.com/articles/s41586-019-0980-2).\n"
   ],
   "metadata": {}
  },
  {
   "cell_type": "markdown",
   "source": [
    "El `PauliFeatureMap` se define de la siguiente manera:\n",
    "\n",
    "```python\n",
    "PauliFeatureMap(feature_dimension=None, reps=2, \n",
    "                entanglement='full', paulis=None, \n",
    "                data_map_func=None, parameter_prefix='x',\n",
    "                insert_barriers=False)\n",
    "```\n",
    "\n",
    "y describe el operador unitario de longitud $d$:\n",
    "\n",
    "$$ \\mathcal{U}_{\\Phi(\\mathbf{x})}=\\prod_d U_{\\Phi(\\mathbf{x})}H^{\\otimes n},\\ U_{\\Phi(\\mathbf{x})}=\\exp\\left(i\\sum_{S\\subseteq[n]}\\phi_S(\\mathbf{x})\\prod_{k\\in S} P_i\\right), $$\n",
    "\n",
    "que contiene una capa de compuertas de Hadamard entre bloques de entrelazamiento, $U_{\\Phi(\\mathbf{x})}$.\n",
    "\n",
    "Dentro de los bloques de entrelazamiento, $U_{\\Phi(\\mathbf{x})}$: $P_i \\in \\{ I, X, Y, Z \\}$ corresponde a las matrices de Pauli, el indice $S$ describe la conexion entre diferentes cubits o elementos de datos: $S \\in \\{\\binom{n}{k}\\ combinaciones,\\ k = 1,... n \\}$, y por default la funcion de mapeo $\\phi_S(\\mathbf{x})$ es: \n",
    "\n",
    "$$\n",
    "\\phi_S:\\mathbf{x}\\mapsto x_i if S=\\{i\\},  y  \\\\ \n",
    "\\phi_S:\\mathbf{x}\\mapsto (\\pi-x_i)(\\pi-x_j) if S=\\{i,j\\}\\\\\n",
    "$$"
   ],
   "metadata": {}
  },
  {
   "cell_type": "markdown",
   "source": [
    "cuando $k = 1, P_0 = Z$, el `ZFeatureMap` es el siguiente: \n",
    "$$\\mathcal{U}_{\\Phi(\\mathbf{x})} = \\left( \\exp\\left(i\\sum_j \\phi_{\\{j\\}}(\\mathbf{x}) \\, Z_j\\right) \\, H^{\\otimes n} \\right)^d.$$\n",
    "\n",
    "y se define como:\n",
    "```python\n",
    "ZFeatureMap(feature_dimension, reps=2, \n",
    "            data_map_func=None, insert_barriers=False)\n",
    "```"
   ],
   "metadata": {}
  },
  {
   "cell_type": "code",
   "execution_count": 14,
   "source": [
    "# 3 features, longitud 2\n",
    "map_z = ZFeatureMap(feature_dimension=3, reps=2)\n",
    "map_z.draw('mpl')"
   ],
   "outputs": [
    {
     "output_type": "execute_result",
     "data": {
      "image/png": "[encoded data removed]",
      "text/plain": [
       "<Figure size 267.197x204.68 with 1 Axes>"
      ]
     },
     "metadata": {},
     "execution_count": 14
    }
   ],
   "metadata": {}
  },
  {
   "cell_type": "markdown",
   "source": [
    "![ZFeature](ZFeature.png)"
   ],
   "metadata": {}
  },
  {
   "cell_type": "markdown",
   "source": [
    "aqui, la falta de entrelazamiento implica que es una rutina o circuito que es facil de simular clasicamente y no provee ventaja cuantica.\n",
    "\n",
    "Cuando $k = 2, P_0 = Z, P_1 = ZZ$, este caso corresponde al `ZZFeatureMap`: \n",
    "$$\\mathcal{U}_{\\Phi(\\mathbf{x})} = \\left( \\exp\\left(i\\sum_{jk} \\phi_{\\{j,k\\}}(\\mathbf{x}) \\, Z_j \\otimes Z_k\\right) \\, \\exp\\left(i\\sum_j \\phi_{\\{j\\}}(\\mathbf{x}) \\, Z_j\\right) \\, H^{\\otimes n} \\right)^d.$$ \n",
    "\n",
    "que se define como:\n",
    "```python\n",
    "ZZFeatureMap(feature_dimension, reps=2, \n",
    "             entanglement='full', data_map_func=None, \n",
    "             insert_barriers=False)\n",
    "```"
   ],
   "metadata": {}
  },
  {
   "cell_type": "code",
   "execution_count": null,
   "source": [
    "# 3 features, longitud 1\n",
    "map_zz = ZZFeatureMap(feature_dimension=3, reps=1)\n",
    "map_zz.draw('mpl')"
   ],
   "outputs": [],
   "metadata": {}
  },
  {
   "cell_type": "markdown",
   "source": [
    "![ZZFeature](ZZFeature.png)"
   ],
   "metadata": {}
  },
  {
   "cell_type": "markdown",
   "source": [
    "Ahora que tenemos capas entrelazadoras, podemos definir diferentes configuraciones. Si ahora utilizamos la opcion 'circular':\n",
    "\n",
    "```python\n",
    "map_zz = ZZFeatureMap(feature_dimension=3, reps=1, entanglement='circular')\n",
    "map_zz.draw('mpl')\n",
    "```\n",
    "\n",
    "![ZZFeatureCircular](ZZFeatureCircular.png)"
   ],
   "metadata": {}
  },
  {
   "cell_type": "markdown",
   "source": [
    "Si ahora utilizamos la opcion 'linear':\n",
    "\n",
    "```python\n",
    "map_zz = ZZFeatureMap(feature_dimension=3, reps=1, entanglement='linear')\n",
    "map_zz.draw('mpl')\n",
    "```\n",
    "\n",
    "![ZZFeatureCircular](ZZFeatureLinear.png)"
   ],
   "metadata": {}
  },
  {
   "cell_type": "markdown",
   "source": [
    "Tambien podemos cambiar las compuertas de Pauli en el feature map, por ejemplo, $P_0 = X, P_1 = Y, P_2 = ZZ$:\n",
    "$$\\mathcal{U}_{\\Phi(\\mathbf{x})} = \\left( \\exp\\left(i\\sum_{jk} \\phi_{\\{j,k\\}}(\\mathbf{x}) \\, Z_j \\otimes Z_k\\right) \\, \\exp\\left(i\\sum_{j} \\phi_{\\{j\\}}(\\mathbf{x}) \\, Y_j\\right) \\, \\exp\\left(i\\sum_j \\phi_{\\{j\\}}(\\mathbf{x}) \\, X_j\\right) \\, H^{\\otimes n} \\right)^d.$$ \n",
    "\n",
    "```python\n",
    "map_pauli = PauliFeatureMap(feature_dimension=3, reps=1, paulis = ['X', 'Y', 'ZZ'])\n",
    "map_pauli.draw('mpl')\n",
    "```\n",
    "![ZFeaturePauli](ZFeaturePauli.png)"
   ],
   "metadata": {}
  },
  {
   "cell_type": "markdown",
   "source": [
    "Tambien podemos definir nuestra propia funcion de mapeo, por ejemplo: "
   ],
   "metadata": {}
  },
  {
   "cell_type": "code",
   "execution_count": 15,
   "source": [
    "def custom_data_map_func(x):\n",
    "    coeff = x[0] if len(x) == 1 else reduce(lambda m, n: m * n, np.sin(np.pi - x))\n",
    "    return coeff"
   ],
   "outputs": [],
   "metadata": {}
  },
  {
   "cell_type": "code",
   "execution_count": null,
   "source": [
    "map_customdatamap = PauliFeatureMap(feature_dimension=3, reps=1, paulis=['Z','ZZ'],\n",
    "                                    data_map_func=custom_data_map_func)"
   ],
   "outputs": [],
   "metadata": {}
  },
  {
   "cell_type": "markdown",
   "source": [
    "Las funciones [`NLocal`](https://qiskit.org/documentation/stubs/qiskit.circuit.library.NLocal.html) y [`TwoLocal`](https://qiskit.org/documentation/stubs/qiskit.circuit.library.TwoLocal.html) en la libreria de circuitos de Qiskit's tambien se pueden utilizar para crear parameterised quantum circuits y usarlos como feature maps. \n",
    "\n",
    "```python\n",
    "TwoLocal(num_qubits=None, reps=3, rotation_blocks=None, \n",
    "         entanglement_blocks=None, entanglement='full',  \n",
    "         skip_unentangled_qubits=False, \n",
    "         skip_final_rotation_layer=False, \n",
    "         parameter_prefix='θ', insert_barriers=False, \n",
    "         initial_state=None)\n",
    "```\n",
    "\n",
    "```python\n",
    "NLocal(num_qubits=None, reps=1, rotation_blocks=None, \n",
    "       entanglement_blocks=None, entanglement=None,   \n",
    "       skip_unentangled_qubits=False, \n",
    "       skip_final_rotation_layer=False, \n",
    "       overwrite_block_parameters=True, \n",
    "       parameter_prefix='θ', insert_barriers=False, \n",
    "       initial_state=None, name='nlocal')\n",
    "```\n",
    "\n",
    "Ambas funciones crean circuitos parameterizados con capas alternando entre compuertas de rotacion y entrelazamiento. En las dos capas, \n",
    "\n",
    "Por ejemplo, podemos usar el circuito `TwoLocal` con compuertas $R_y$ and $R_Z$ en la capa de rotacion y $CX$ como entrelazamiento de manera circular: "
   ],
   "metadata": {}
  },
  {
   "cell_type": "code",
   "execution_count": null,
   "source": [
    "twolocal = TwoLocal(num_qubits=3, reps=2, rotation_blocks=['ry','rz'], \n",
    "               entanglement_blocks='cx', entanglement='circular', insert_barriers=True)"
   ],
   "outputs": [],
   "metadata": {}
  },
  {
   "cell_type": "markdown",
   "source": [
    "![TwoLocal](TwoLocal.png)"
   ],
   "metadata": {}
  },
  {
   "cell_type": "markdown",
   "source": [
    "Este es otro circuito `NLocal`, con un bloque de rotacion en 2 cubits y un bloque de entrelazamiento en 4 cubits utilizando entrelazamioento lineal:"
   ],
   "metadata": {}
  },
  {
   "cell_type": "code",
   "execution_count": 16,
   "source": [
    "# rotation block:\n",
    "rot = QuantumCircuit(2)\n",
    "params = ParameterVector('r', 2)\n",
    "rot.ry(params[0], 0)\n",
    "rot.rz(params[1], 1)\n",
    "\n",
    "# entanglement block:\n",
    "ent = QuantumCircuit(4) \n",
    "params = ParameterVector('e', 3)\n",
    "ent.crx(params[0], 0, 1)\n",
    "ent.crx(params[1], 1, 2)\n",
    "ent.crx(params[2], 2, 3)\n",
    "\n",
    "nlocal = NLocal(num_qubits=6, rotation_blocks=rot, entanglement_blocks=ent, \n",
    "                entanglement='linear', insert_barriers=True)\n",
    "nlocal.draw('mpl')"
   ],
   "outputs": [
    {
     "output_type": "execute_result",
     "data": {
      "image/png": "[encoded data removed]",
      "text/plain": [
       "<Figure size 628.397x385.28 with 1 Axes>"
      ]
     },
     "metadata": {},
     "execution_count": 16
    }
   ],
   "metadata": {}
  },
  {
   "cell_type": "markdown",
   "source": [
    "Ahora vamos a codificar nuestros datos de entrenamiento utilizando el `ZZFeatureMap`:"
   ],
   "metadata": {}
  },
  {
   "cell_type": "code",
   "execution_count": 17,
   "source": [
    "print(sample_train[0])"
   ],
   "outputs": [
    {
     "output_type": "stream",
     "name": "stdout",
     "text": [
      "[-0.79923362 -0.26571862 -0.16474421 -0.17815209]\n"
     ]
    }
   ],
   "metadata": {}
  },
  {
   "cell_type": "code",
   "execution_count": 19,
   "source": [
    "encode_map = ZZFeatureMap(feature_dimension=4, reps=2, entanglement='linear', insert_barriers=True)\n",
    "encode_circuit = encode_map.bind_parameters(sample_train[0])\n",
    "encode_circuit.draw(output='mpl')"
   ],
   "outputs": [
    {
     "output_type": "execute_result",
     "data": {
      "image/png": "[encoded data removed]",
      "text/plain": [
       "<Figure size 628.397x264.88 with 1 Axes>"
      ]
     },
     "metadata": {},
     "execution_count": 19
    }
   ],
   "metadata": {}
  },
  {
   "cell_type": "markdown",
   "source": [
    "![DataEncoding](DataEncoding.png)"
   ],
   "metadata": {}
  },
  {
   "cell_type": "markdown",
   "source": [
    "### Ejercicio: \n",
    "Codifica el vector $x = (-0.1,0.2)$ utilizando el `ZZFeatureMap` con 4 repeticiones y la funcion default de mapeo."
   ],
   "metadata": {}
  },
  {
   "cell_type": "code",
   "execution_count": null,
   "source": [
    "x = [-0.1,0.2]\n",
    "\n",
    "# Tu codigo aqui"
   ],
   "outputs": [],
   "metadata": {}
  },
  {
   "cell_type": "code",
   "execution_count": null,
   "source": [],
   "outputs": [],
   "metadata": {}
  }
 ],
 "metadata": {
  "orig_nbformat": 4,
  "language_info": {
   "name": "python",
   "version": "3.8.8",
   "mimetype": "text/x-python",
   "codemirror_mode": {
    "name": "ipython",
    "version": 3
   },
   "pygments_lexer": "ipython3",
   "nbconvert_exporter": "python",
   "file_extension": ".py"
  },
  "kernelspec": {
   "name": "python3",
   "display_name": "Python 3.8.8 64-bit ('base': conda)"
  },
  "interpreter": {
   "hash": "dca0ade3e726a953b501b15e8e990130d2b7799f14cfd9f4271676035ebe5511"
  }
 },
 "nbformat": 4,
 "nbformat_minor": 2
}