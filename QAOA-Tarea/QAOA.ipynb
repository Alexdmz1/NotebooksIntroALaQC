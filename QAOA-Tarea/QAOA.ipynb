{
 "cells": [
  {
   "cell_type": "code",
   "execution_count": 2,
   "source": [
    "import networkx as nx\n",
    "import numpy as np\n",
    "import plotly.graph_objects as go\n",
    "import matplotlib as mpl\n",
    "import pandas as pd\n",
    "from IPython.display import clear_output\n",
    "from plotly.subplots import make_subplots\n",
    "from matplotlib import pyplot as plt\n",
    "from qiskit import Aer\n",
    "from qiskit import QuantumCircuit\n",
    "from qiskit.visualization import plot_state_city\n",
    "from qiskit.algorithms.optimizers import COBYLA, SLSQP, ADAM\n",
    "from time import time\n",
    "from copy import copy\n",
    "from typing import List\n",
    "from util import display_maxcut_widget, QAOA_widget, graphs\n",
    "mpl.rcParams['figure.dpi'] = 300"
   ],
   "outputs": [],
   "metadata": {}
  },
  {
   "cell_type": "markdown",
   "source": [
    "En este Notebook vamos a explorar mas a fondo el algoritmo QAOA aplicado al  problema MaxCut. El archivo `custom.csv` contiene una lista de vertices con pesos para los conectores. A cpntinuacion, utilizamos el modulo `network` para crear una grafica basada en los valores en el archivo.csv. El widget de visualizacion nos va a permitir explorar las soluciones, los diferentes grupos seran coloreados de azul claro y oscuro y los conectores entre diferentes grupos apareceran en color rojo."
   ],
   "metadata": {}
  },
  {
   "cell_type": "code",
   "execution_count": 3,
   "source": [
    "graph = nx.Graph()\n",
    "#Añadimos algunos vertices y conectores\n",
    "graph.add_nodes_from(np.arange(0,6,1))\n",
    "edges = [(0,1,2.0),(0,2,3.0),(0,3,2.0),(0,4,4.0),(0,5,1.0),(1,2,4.0),(1,3,1.0),(1,4,1.0),(1,5,3.0),(2,4,2.0),(2,5,3.0),(3,4,5.0),(3,5,1.0)]\n",
    "graph.add_weighted_edges_from(edges)\n",
    "graphs['custom'] = graph\n",
    "#Graficamos el grafo que acabamos de crear\n",
    "display_maxcut_widget(graphs['custom'])"
   ],
   "outputs": [
    {
     "output_type": "display_data",
     "data": {
      "text/plain": [
       "CytoscapeWidget(cytoscape_layout={'name': 'cola'}, cytoscape_style=[{'selector': 'node', 'css': {'background-c…"
      ],
      "application/vnd.jupyter.widget-view+json": {
       "version_major": 2,
       "version_minor": 0,
       "model_id": "1925c6d7d81d4ab4ba950ed43582dd74"
      }
     },
     "metadata": {}
    },
    {
     "output_type": "display_data",
     "data": {
      "text/plain": [
       "Output()"
      ],
      "application/vnd.jupyter.widget-view+json": {
       "version_major": 2,
       "version_minor": 0,
       "model_id": "179c724d459e46849b9e12da6fe2711a"
      }
     },
     "metadata": {}
    }
   ],
   "metadata": {}
  },
  {
   "cell_type": "markdown",
   "source": [
    "Para la grafica que acabamos de definir, vamos a encontrar la solucion al problema de MaxCut de la forma '$x=$\\[$x_0, x_1, ..., x_n$\\]'. A continuacion crearemos una funcion que nos permita graficar los diferentes valores resultantes de la funcion de costo. La matrix `weight_matrix` corresponde al peso asignado entre los vertices [i,j]."
   ],
   "metadata": {}
  },
  {
   "cell_type": "markdown",
   "source": [
    "## Solucion clasica (brute force approach)"
   ],
   "metadata": {}
  },
  {
   "cell_type": "code",
   "execution_count": 4,
   "source": [
    "def maxcut_cost_fn(graph: nx.Graph, bitstring: List[int]) -> float:\n",
    "    \"\"\"\n",
    "    Calcula la funcion de costo para un grafo determinado con una particion\n",
    "    representada por los bits 0 o 1 en una cadena de bits\n",
    "    Argumentos:\n",
    "        graph: El grafo para calcular los valores de costo\n",
    "        bitstring: Una cadena de valores '0' or '1' que representan la asignacion a un grupo \n",
    "        o particion\n",
    "    La funcion regresa:\n",
    "        El costo de la particion\n",
    "    \"\"\"\n",
    "    #Obtener la matrix de pesos de los conectores en el grafo\n",
    "    weight_matrix = nx.adjacency_matrix(graph).toarray()\n",
    "    size = weight_matrix.shape[0]\n",
    "    value = 0.\n",
    "    \n",
    "    cost = 0.\n",
    "    for i in range(size):\n",
    "        for j in range(size):\n",
    "            cost = cost + weight_matrix[i,j]*bitstring[i]*(1 - bitstring[j])\n",
    "    if value < cost:\n",
    "        value = cost\n",
    "        xbest_brute = bitstring\n",
    "    print('caso = ' + str(bitstring)+ ' costo = ' + str(cost))\n",
    "    #print('\\nMejor solucion = ' + str(xbest_brute) + ' costo = ' + str(value))\n",
    "    return value\n",
    "\n",
    "def plot_maxcut_histogram(graph: nx.Graph) -> None:\n",
    "    \"\"\"\n",
    "    Grafica un histograma de barras con todos los posibles valores correspondientes\n",
    "    a una posible particion para un grafo\n",
    "    Argumentos:\n",
    "        graph: El grafo\n",
    "    \"\"\"\n",
    "    num_vars = graph.number_of_nodes()\n",
    "    #Empezamos creando una lista de bits y sus costos asociados\n",
    "    bitstrings = ['{:b}'.format(i).rjust(num_vars, '0')[::-1] for i in range(2**num_vars)]\n",
    "    print(bitstrings[0][0])\n",
    "    values = [maxcut_cost_fn(graph = graph, bitstring = [int(x) for x in bitstring]) for bitstring in bitstrings]\n",
    "    #Ordenar la lista en orden descendente en valor de costo\n",
    "    values, bitstrings = zip(*sorted(zip(values, bitstrings)))\n",
    "    #Graficar el costo asociado\n",
    "    bar_plot = go.Bar(x = bitstrings, y = values, marker=dict(color=values, colorscale = 'plasma', colorbar=dict(title='Costo')))\n",
    "    fig = go.Figure(data=bar_plot, layout = dict(xaxis=dict(type = 'category'), width = 1500, height = 600))\n",
    "    fig.show()\n"
   ],
   "outputs": [],
   "metadata": {}
  },
  {
   "cell_type": "markdown",
   "source": [
    "Despues de definir estas funciones de herramienta, calculamos el costo para todas las posibles particiones de nuesta grafica, todas las posibles asignaciones de 0 o 1 para cada vertice en el grafo y su costo asociado."
   ],
   "metadata": {}
  },
  {
   "cell_type": "code",
   "execution_count": 5,
   "source": [
    "plot_maxcut_histogram(graph = graphs['custom'])"
   ],
   "outputs": [
    {
     "output_type": "stream",
     "name": "stdout",
     "text": [
      "0\n",
      "caso = [0, 0, 0, 0, 0, 0] costo = 0.0\n",
      "caso = [1, 0, 0, 0, 0, 0] costo = 12.0\n",
      "caso = [0, 1, 0, 0, 0, 0] costo = 11.0\n",
      "caso = [1, 1, 0, 0, 0, 0] costo = 19.0\n",
      "caso = [0, 0, 1, 0, 0, 0] costo = 12.0\n",
      "caso = [1, 0, 1, 0, 0, 0] costo = 18.0\n",
      "caso = [0, 1, 1, 0, 0, 0] costo = 15.0\n",
      "caso = [1, 1, 1, 0, 0, 0] costo = 17.0\n",
      "caso = [0, 0, 0, 1, 0, 0] costo = 9.0\n",
      "caso = [1, 0, 0, 1, 0, 0] costo = 17.0\n",
      "caso = [0, 1, 0, 1, 0, 0] costo = 18.0\n",
      "caso = [1, 1, 0, 1, 0, 0] costo = 22.0\n",
      "caso = [0, 0, 1, 1, 0, 0] costo = 21.0\n",
      "caso = [1, 0, 1, 1, 0, 0] costo = 23.0\n",
      "caso = [0, 1, 1, 1, 0, 0] costo = 22.0\n",
      "caso = [1, 1, 1, 1, 0, 0] costo = 20.0\n",
      "caso = [0, 0, 0, 0, 1, 0] costo = 12.0\n",
      "caso = [1, 0, 0, 0, 1, 0] costo = 16.0\n",
      "caso = [0, 1, 0, 0, 1, 0] costo = 21.0\n",
      "caso = [1, 1, 0, 0, 1, 0] costo = 21.0\n",
      "caso = [0, 0, 1, 0, 1, 0] costo = 20.0\n",
      "caso = [1, 0, 1, 0, 1, 0] costo = 18.0\n",
      "caso = [0, 1, 1, 0, 1, 0] costo = 21.0\n",
      "caso = [1, 1, 1, 0, 1, 0] costo = 15.0\n",
      "caso = [0, 0, 0, 1, 1, 0] costo = 11.0\n",
      "caso = [1, 0, 0, 1, 1, 0] costo = 11.0\n",
      "caso = [0, 1, 0, 1, 1, 0] costo = 18.0\n",
      "caso = [1, 1, 0, 1, 1, 0] costo = 14.0\n",
      "caso = [0, 0, 1, 1, 1, 0] costo = 19.0\n",
      "caso = [1, 0, 1, 1, 1, 0] costo = 13.0\n",
      "caso = [0, 1, 1, 1, 1, 0] costo = 18.0\n",
      "caso = [1, 1, 1, 1, 1, 0] costo = 8.0\n",
      "caso = [0, 0, 0, 0, 0, 1] costo = 8.0\n",
      "caso = [1, 0, 0, 0, 0, 1] costo = 18.0\n",
      "caso = [0, 1, 0, 0, 0, 1] costo = 13.0\n",
      "caso = [1, 1, 0, 0, 0, 1] costo = 19.0\n",
      "caso = [0, 0, 1, 0, 0, 1] costo = 14.0\n",
      "caso = [1, 0, 1, 0, 0, 1] costo = 18.0\n",
      "caso = [0, 1, 1, 0, 0, 1] costo = 11.0\n",
      "caso = [1, 1, 1, 0, 0, 1] costo = 11.0\n",
      "caso = [0, 0, 0, 1, 0, 1] costo = 15.0\n",
      "caso = [1, 0, 0, 1, 0, 1] costo = 21.0\n",
      "caso = [0, 1, 0, 1, 0, 1] costo = 18.0\n",
      "caso = [1, 1, 0, 1, 0, 1] costo = 20.0\n",
      "caso = [0, 0, 1, 1, 0, 1] costo = 21.0\n",
      "caso = [1, 0, 1, 1, 0, 1] costo = 21.0\n",
      "caso = [0, 1, 1, 1, 0, 1] costo = 16.0\n",
      "caso = [1, 1, 1, 1, 0, 1] costo = 12.0\n",
      "caso = [0, 0, 0, 0, 1, 1] costo = 20.0\n",
      "caso = [1, 0, 0, 0, 1, 1] costo = 22.0\n",
      "caso = [0, 1, 0, 0, 1, 1] costo = 23.0\n",
      "caso = [1, 1, 0, 0, 1, 1] costo = 21.0\n",
      "caso = [0, 0, 1, 0, 1, 1] costo = 22.0\n",
      "caso = [1, 0, 1, 0, 1, 1] costo = 18.0\n",
      "caso = [0, 1, 1, 0, 1, 1] costo = 17.0\n",
      "caso = [1, 1, 1, 0, 1, 1] costo = 9.0\n",
      "caso = [0, 0, 0, 1, 1, 1] costo = 17.0\n",
      "caso = [1, 0, 0, 1, 1, 1] costo = 15.0\n",
      "caso = [0, 1, 0, 1, 1, 1] costo = 18.0\n",
      "caso = [1, 1, 0, 1, 1, 1] costo = 12.0\n",
      "caso = [0, 0, 1, 1, 1, 1] costo = 19.0\n",
      "caso = [1, 0, 1, 1, 1, 1] costo = 11.0\n",
      "caso = [0, 1, 1, 1, 1, 1] costo = 12.0\n",
      "caso = [1, 1, 1, 1, 1, 1] costo = 0.0\n"
     ]
    },
    {
     "output_type": "display_data",
     "data": {
      "application/vnd.plotly.v1+json": {
       "config": {
        "plotlyServerURL": "https://plot.ly"
       },
       "data": [
        {
         "marker": {
          "color": [
           0,
           0,
           8,
           8,
           9,
           9,
           11,
           11,
           11,
           11,
           11,
           11,
           12,
           12,
           12,
           12,
           12,
           12,
           13,
           13,
           14,
           14,
           15,
           15,
           15,
           15,
           16,
           16,
           17,
           17,
           17,
           17,
           18,
           18,
           18,
           18,
           18,
           18,
           18,
           18,
           18,
           18,
           19,
           19,
           19,
           19,
           20,
           20,
           20,
           20,
           21,
           21,
           21,
           21,
           21,
           21,
           21,
           21,
           22,
           22,
           22,
           22,
           23,
           23
          ],
          "colorbar": {
           "title": {
            "text": "Costo"
           }
          },
          "colorscale": [
           [
            0,
            "#0d0887"
           ],
           [
            0.1111111111111111,
            "#46039f"
           ],
           [
            0.2222222222222222,
            "#7201a8"
           ],
           [
            0.3333333333333333,
            "#9c179e"
           ],
           [
            0.4444444444444444,
            "#bd3786"
           ],
           [
            0.5555555555555556,
            "#d8576b"
           ],
           [
            0.6666666666666666,
            "#ed7953"
           ],
           [
            0.7777777777777778,
            "#fb9f3a"
           ],
           [
            0.8888888888888888,
            "#fdca26"
           ],
           [
            1,
            "#f0f921"
           ]
          ]
         },
         "type": "bar",
         "x": [
          "000000",
          "111111",
          "000001",
          "111110",
          "000100",
          "111011",
          "000110",
          "010000",
          "011001",
          "100110",
          "101111",
          "111001",
          "000010",
          "001000",
          "011111",
          "100000",
          "110111",
          "111101",
          "010001",
          "101110",
          "001001",
          "110110",
          "000101",
          "011000",
          "100111",
          "111010",
          "011101",
          "100010",
          "000111",
          "011011",
          "100100",
          "111000",
          "010100",
          "010101",
          "010110",
          "010111",
          "011110",
          "100001",
          "101000",
          "101001",
          "101010",
          "101011",
          "001110",
          "001111",
          "110000",
          "110001",
          "000011",
          "001010",
          "110101",
          "111100",
          "001100",
          "001101",
          "010010",
          "011010",
          "100101",
          "101101",
          "110010",
          "110011",
          "001011",
          "011100",
          "100011",
          "110100",
          "010011",
          "101100"
         ],
         "y": [
          0,
          0,
          8,
          8,
          9,
          9,
          11,
          11,
          11,
          11,
          11,
          11,
          12,
          12,
          12,
          12,
          12,
          12,
          13,
          13,
          14,
          14,
          15,
          15,
          15,
          15,
          16,
          16,
          17,
          17,
          17,
          17,
          18,
          18,
          18,
          18,
          18,
          18,
          18,
          18,
          18,
          18,
          19,
          19,
          19,
          19,
          20,
          20,
          20,
          20,
          21,
          21,
          21,
          21,
          21,
          21,
          21,
          21,
          22,
          22,
          22,
          22,
          23,
          23
         ]
        }
       ],
       "layout": {
        "height": 600,
        "template": {
         "data": {
          "bar": [
           {
            "error_x": {
             "color": "#2a3f5f"
            },
            "error_y": {
             "color": "#2a3f5f"
            },
            "marker": {
             "line": {
              "color": "#E5ECF6",
              "width": 0.5
             },
             "pattern": {
              "fillmode": "overlay",
              "size": 10,
              "solidity": 0.2
             }
            },
            "type": "bar"
           }
          ],
          "barpolar": [
           {
            "marker": {
             "line": {
              "color": "#E5ECF6",
              "width": 0.5
             },
             "pattern": {
              "fillmode": "overlay",
              "size": 10,
              "solidity": 0.2
             }
            },
            "type": "barpolar"
           }
          ],
          "carpet": [
           {
            "aaxis": {
             "endlinecolor": "#2a3f5f",
             "gridcolor": "white",
             "linecolor": "white",
             "minorgridcolor": "white",
             "startlinecolor": "#2a3f5f"
            },
            "baxis": {
             "endlinecolor": "#2a3f5f",
             "gridcolor": "white",
             "linecolor": "white",
             "minorgridcolor": "white",
             "startlinecolor": "#2a3f5f"
            },
            "type": "carpet"
           }
          ],
          "choropleth": [
           {
            "colorbar": {
             "outlinewidth": 0,
             "ticks": ""
            },
            "type": "choropleth"
           }
          ],
          "contour": [
           {
            "colorbar": {
             "outlinewidth": 0,
             "ticks": ""
            },
            "colorscale": [
             [
              0,
              "#0d0887"
             ],
             [
              0.1111111111111111,
              "#46039f"
             ],
             [
              0.2222222222222222,
              "#7201a8"
             ],
             [
              0.3333333333333333,
              "#9c179e"
             ],
             [
              0.4444444444444444,
              "#bd3786"
             ],
             [
              0.5555555555555556,
              "#d8576b"
             ],
             [
              0.6666666666666666,
              "#ed7953"
             ],
             [
              0.7777777777777778,
              "#fb9f3a"
             ],
             [
              0.8888888888888888,
              "#fdca26"
             ],
             [
              1,
              "#f0f921"
             ]
            ],
            "type": "contour"
           }
          ],
          "contourcarpet": [
           {
            "colorbar": {
             "outlinewidth": 0,
             "ticks": ""
            },
            "type": "contourcarpet"
           }
          ],
          "heatmap": [
           {
            "colorbar": {
             "outlinewidth": 0,
             "ticks": ""
            },
            "colorscale": [
             [
              0,
              "#0d0887"
             ],
             [
              0.1111111111111111,
              "#46039f"
             ],
             [
              0.2222222222222222,
              "#7201a8"
             ],
             [
              0.3333333333333333,
              "#9c179e"
             ],
             [
              0.4444444444444444,
              "#bd3786"
             ],
             [
              0.5555555555555556,
              "#d8576b"
             ],
             [
              0.6666666666666666,
              "#ed7953"
             ],
             [
              0.7777777777777778,
              "#fb9f3a"
             ],
             [
              0.8888888888888888,
              "#fdca26"
             ],
             [
              1,
              "#f0f921"
             ]
            ],
            "type": "heatmap"
           }
          ],
          "heatmapgl": [
           {
            "colorbar": {
             "outlinewidth": 0,
             "ticks": ""
            },
            "colorscale": [
             [
              0,
              "#0d0887"
             ],
             [
              0.1111111111111111,
              "#46039f"
             ],
             [
              0.2222222222222222,
              "#7201a8"
             ],
             [
              0.3333333333333333,
              "#9c179e"
             ],
             [
              0.4444444444444444,
              "#bd3786"
             ],
             [
              0.5555555555555556,
              "#d8576b"
             ],
             [
              0.6666666666666666,
              "#ed7953"
             ],
             [
              0.7777777777777778,
              "#fb9f3a"
             ],
             [
              0.8888888888888888,
              "#fdca26"
             ],
             [
              1,
              "#f0f921"
             ]
            ],
            "type": "heatmapgl"
           }
          ],
          "histogram": [
           {
            "marker": {
             "pattern": {
              "fillmode": "overlay",
              "size": 10,
              "solidity": 0.2
             }
            },
            "type": "histogram"
           }
          ],
          "histogram2d": [
           {
            "colorbar": {
             "outlinewidth": 0,
             "ticks": ""
            },
            "colorscale": [
             [
              0,
              "#0d0887"
             ],
             [
              0.1111111111111111,
              "#46039f"
             ],
             [
              0.2222222222222222,
              "#7201a8"
             ],
             [
              0.3333333333333333,
              "#9c179e"
             ],
             [
              0.4444444444444444,
              "#bd3786"
             ],
             [
              0.5555555555555556,
              "#d8576b"
             ],
             [
              0.6666666666666666,
              "#ed7953"
             ],
             [
              0.7777777777777778,
              "#fb9f3a"
             ],
             [
              0.8888888888888888,
              "#fdca26"
             ],
             [
              1,
              "#f0f921"
             ]
            ],
            "type": "histogram2d"
           }
          ],
          "histogram2dcontour": [
           {
            "colorbar": {
             "outlinewidth": 0,
             "ticks": ""
            },
            "colorscale": [
             [
              0,
              "#0d0887"
             ],
             [
              0.1111111111111111,
              "#46039f"
             ],
             [
              0.2222222222222222,
              "#7201a8"
             ],
             [
              0.3333333333333333,
              "#9c179e"
             ],
             [
              0.4444444444444444,
              "#bd3786"
             ],
             [
              0.5555555555555556,
              "#d8576b"
             ],
             [
              0.6666666666666666,
              "#ed7953"
             ],
             [
              0.7777777777777778,
              "#fb9f3a"
             ],
             [
              0.8888888888888888,
              "#fdca26"
             ],
             [
              1,
              "#f0f921"
             ]
            ],
            "type": "histogram2dcontour"
           }
          ],
          "mesh3d": [
           {
            "colorbar": {
             "outlinewidth": 0,
             "ticks": ""
            },
            "type": "mesh3d"
           }
          ],
          "parcoords": [
           {
            "line": {
             "colorbar": {
              "outlinewidth": 0,
              "ticks": ""
             }
            },
            "type": "parcoords"
           }
          ],
          "pie": [
           {
            "automargin": true,
            "type": "pie"
           }
          ],
          "scatter": [
           {
            "marker": {
             "colorbar": {
              "outlinewidth": 0,
              "ticks": ""
             }
            },
            "type": "scatter"
           }
          ],
          "scatter3d": [
           {
            "line": {
             "colorbar": {
              "outlinewidth": 0,
              "ticks": ""
             }
            },
            "marker": {
             "colorbar": {
              "outlinewidth": 0,
              "ticks": ""
             }
            },
            "type": "scatter3d"
           }
          ],
          "scattercarpet": [
           {
            "marker": {
             "colorbar": {
              "outlinewidth": 0,
              "ticks": ""
             }
            },
            "type": "scattercarpet"
           }
          ],
          "scattergeo": [
           {
            "marker": {
             "colorbar": {
              "outlinewidth": 0,
              "ticks": ""
             }
            },
            "type": "scattergeo"
           }
          ],
          "scattergl": [
           {
            "marker": {
             "colorbar": {
              "outlinewidth": 0,
              "ticks": ""
             }
            },
            "type": "scattergl"
           }
          ],
          "scattermapbox": [
           {
            "marker": {
             "colorbar": {
              "outlinewidth": 0,
              "ticks": ""
             }
            },
            "type": "scattermapbox"
           }
          ],
          "scatterpolar": [
           {
            "marker": {
             "colorbar": {
              "outlinewidth": 0,
              "ticks": ""
             }
            },
            "type": "scatterpolar"
           }
          ],
          "scatterpolargl": [
           {
            "marker": {
             "colorbar": {
              "outlinewidth": 0,
              "ticks": ""
             }
            },
            "type": "scatterpolargl"
           }
          ],
          "scatterternary": [
           {
            "marker": {
             "colorbar": {
              "outlinewidth": 0,
              "ticks": ""
             }
            },
            "type": "scatterternary"
           }
          ],
          "surface": [
           {
            "colorbar": {
             "outlinewidth": 0,
             "ticks": ""
            },
            "colorscale": [
             [
              0,
              "#0d0887"
             ],
             [
              0.1111111111111111,
              "#46039f"
             ],
             [
              0.2222222222222222,
              "#7201a8"
             ],
             [
              0.3333333333333333,
              "#9c179e"
             ],
             [
              0.4444444444444444,
              "#bd3786"
             ],
             [
              0.5555555555555556,
              "#d8576b"
             ],
             [
              0.6666666666666666,
              "#ed7953"
             ],
             [
              0.7777777777777778,
              "#fb9f3a"
             ],
             [
              0.8888888888888888,
              "#fdca26"
             ],
             [
              1,
              "#f0f921"
             ]
            ],
            "type": "surface"
           }
          ],
          "table": [
           {
            "cells": {
             "fill": {
              "color": "#EBF0F8"
             },
             "line": {
              "color": "white"
             }
            },
            "header": {
             "fill": {
              "color": "#C8D4E3"
             },
             "line": {
              "color": "white"
             }
            },
            "type": "table"
           }
          ]
         },
         "layout": {
          "annotationdefaults": {
           "arrowcolor": "#2a3f5f",
           "arrowhead": 0,
           "arrowwidth": 1
          },
          "autotypenumbers": "strict",
          "coloraxis": {
           "colorbar": {
            "outlinewidth": 0,
            "ticks": ""
           }
          },
          "colorscale": {
           "diverging": [
            [
             0,
             "#8e0152"
            ],
            [
             0.1,
             "#c51b7d"
            ],
            [
             0.2,
             "#de77ae"
            ],
            [
             0.3,
             "#f1b6da"
            ],
            [
             0.4,
             "#fde0ef"
            ],
            [
             0.5,
             "#f7f7f7"
            ],
            [
             0.6,
             "#e6f5d0"
            ],
            [
             0.7,
             "#b8e186"
            ],
            [
             0.8,
             "#7fbc41"
            ],
            [
             0.9,
             "#4d9221"
            ],
            [
             1,
             "#276419"
            ]
           ],
           "sequential": [
            [
             0,
             "#0d0887"
            ],
            [
             0.1111111111111111,
             "#46039f"
            ],
            [
             0.2222222222222222,
             "#7201a8"
            ],
            [
             0.3333333333333333,
             "#9c179e"
            ],
            [
             0.4444444444444444,
             "#bd3786"
            ],
            [
             0.5555555555555556,
             "#d8576b"
            ],
            [
             0.6666666666666666,
             "#ed7953"
            ],
            [
             0.7777777777777778,
             "#fb9f3a"
            ],
            [
             0.8888888888888888,
             "#fdca26"
            ],
            [
             1,
             "#f0f921"
            ]
           ],
           "sequentialminus": [
            [
             0,
             "#0d0887"
            ],
            [
             0.1111111111111111,
             "#46039f"
            ],
            [
             0.2222222222222222,
             "#7201a8"
            ],
            [
             0.3333333333333333,
             "#9c179e"
            ],
            [
             0.4444444444444444,
             "#bd3786"
            ],
            [
             0.5555555555555556,
             "#d8576b"
            ],
            [
             0.6666666666666666,
             "#ed7953"
            ],
            [
             0.7777777777777778,
             "#fb9f3a"
            ],
            [
             0.8888888888888888,
             "#fdca26"
            ],
            [
             1,
             "#f0f921"
            ]
           ]
          },
          "colorway": [
           "#636efa",
           "#EF553B",
           "#00cc96",
           "#ab63fa",
           "#FFA15A",
           "#19d3f3",
           "#FF6692",
           "#B6E880",
           "#FF97FF",
           "#FECB52"
          ],
          "font": {
           "color": "#2a3f5f"
          },
          "geo": {
           "bgcolor": "white",
           "lakecolor": "white",
           "landcolor": "#E5ECF6",
           "showlakes": true,
           "showland": true,
           "subunitcolor": "white"
          },
          "hoverlabel": {
           "align": "left"
          },
          "hovermode": "closest",
          "mapbox": {
           "style": "light"
          },
          "paper_bgcolor": "white",
          "plot_bgcolor": "#E5ECF6",
          "polar": {
           "angularaxis": {
            "gridcolor": "white",
            "linecolor": "white",
            "ticks": ""
           },
           "bgcolor": "#E5ECF6",
           "radialaxis": {
            "gridcolor": "white",
            "linecolor": "white",
            "ticks": ""
           }
          },
          "scene": {
           "xaxis": {
            "backgroundcolor": "#E5ECF6",
            "gridcolor": "white",
            "gridwidth": 2,
            "linecolor": "white",
            "showbackground": true,
            "ticks": "",
            "zerolinecolor": "white"
           },
           "yaxis": {
            "backgroundcolor": "#E5ECF6",
            "gridcolor": "white",
            "gridwidth": 2,
            "linecolor": "white",
            "showbackground": true,
            "ticks": "",
            "zerolinecolor": "white"
           },
           "zaxis": {
            "backgroundcolor": "#E5ECF6",
            "gridcolor": "white",
            "gridwidth": 2,
            "linecolor": "white",
            "showbackground": true,
            "ticks": "",
            "zerolinecolor": "white"
           }
          },
          "shapedefaults": {
           "line": {
            "color": "#2a3f5f"
           }
          },
          "ternary": {
           "aaxis": {
            "gridcolor": "white",
            "linecolor": "white",
            "ticks": ""
           },
           "baxis": {
            "gridcolor": "white",
            "linecolor": "white",
            "ticks": ""
           },
           "bgcolor": "#E5ECF6",
           "caxis": {
            "gridcolor": "white",
            "linecolor": "white",
            "ticks": ""
           }
          },
          "title": {
           "x": 0.05
          },
          "xaxis": {
           "automargin": true,
           "gridcolor": "white",
           "linecolor": "white",
           "ticks": "",
           "title": {
            "standoff": 15
           },
           "zerolinecolor": "white",
           "zerolinewidth": 2
          },
          "yaxis": {
           "automargin": true,
           "gridcolor": "white",
           "linecolor": "white",
           "ticks": "",
           "title": {
            "standoff": 15
           },
           "zerolinecolor": "white",
           "zerolinewidth": 2
          }
         }
        },
        "width": 1500,
        "xaxis": {
         "type": "category"
        }
       }
      }
     },
     "metadata": {}
    }
   ],
   "metadata": {}
  },
  {
   "cell_type": "markdown",
   "source": [
    "## La version cuantica (el algoritmo QAOA)\n",
    "\n",
    "El ejercicio ahora es escribir la funcion que toma como argumentos una expresion cuadratica y el parametro p y produce un circuito QAOA con $p$ capas. En la funcion de abajo solo falta insertar los circuitos que corresponden al operador `mixer` y `problema`. La funcion cuadratica, tipo QUBO es generada mediante la siguiente funcion `quadratic_program_from_graph` "
   ],
   "metadata": {}
  },
  {
   "cell_type": "code",
   "execution_count": 6,
   "source": [
    "from qiskit.optimization.applications.ising import max_cut\n",
    "from qiskit.optimization.problems import QuadraticProgram\n",
    "\n",
    "def quadratic_program_from_graph(graph: nx.Graph) -> QuadraticProgram:\n",
    "    \"\"\"Construye una expresion tipo QUBO a partir de un grafo\n",
    "    para obtener una solucion al problema MaxCut.\n",
    "    Argumentos:\n",
    "        graph: Grafo.\n",
    "    La funcion regresa:\n",
    "        Expresion tipo QUBO\n",
    "    \"\"\"\n",
    "    weight_matrix = nx.adjacency_matrix(graph)\n",
    "    shape = weight_matrix.shape\n",
    "    size = shape[0]\n",
    "    #Construir la matrix QUBO desde la matriz de pesos W\n",
    "    qubo_matrix = np.zeros((size, size))\n",
    "    qubo_vector = np.zeros(size)\n",
    "    for i in range(size):\n",
    "        for j in range(size):\n",
    "            qubo_matrix[i, j] -= weight_matrix[i, j]\n",
    "    for i in range(size):\n",
    "        for j in range(size):\n",
    "            qubo_vector[i] += weight_matrix[i,j]\n",
    "\n",
    "    quadratic_program = QuadraticProgram()\n",
    "    _ = [quadratic_program.binary_var('x{}'.format(i)) for i in range(size)]\n",
    "    quadratic_program.maximize(linear=qubo_vector, quadratic=qubo_matrix)\n",
    "    \n",
    "    return quadratic_program"
   ],
   "outputs": [
    {
     "output_type": "stream",
     "name": "stderr",
     "text": [
      "/opt/anaconda3/lib/python3.8/site-packages/qiskit/optimization/__init__.py:92: DeprecationWarning:\n",
      "\n",
      "The package qiskit.optimization is deprecated. It was moved/refactored to qiskit_optimization (pip install qiskit-optimization). For more information see <https://github.com/Qiskit/qiskit-aqua/blob/main/README.md#migration-guide>\n",
      "\n"
     ]
    }
   ],
   "metadata": {}
  },
  {
   "cell_type": "markdown",
   "source": [
    "La siguiente funcion construye el algoritmo QAOA, inserta las partes que faltan para construir los operadores `mixer` y `problema`."
   ],
   "metadata": {}
  },
  {
   "cell_type": "code",
   "execution_count": 7,
   "source": [
    "def qaoa_circuit(qubo: QuadraticProgram, p: int = 1):\n",
    "    \"\"\"\n",
    "    Construye el circuito QAOA con p capas a partir de una expresion qubo.\n",
    "    Argumentos:\n",
    "        qubo: La expresion qubo\n",
    "        p: El numero de capas en el circuito QAOA\n",
    "    Regresa:\n",
    "        El circuito QAOA\n",
    "    \"\"\"\n",
    "    size = len(qubo.variables)\n",
    "    qubo_matrix = qubo.objective.quadratic.to_array(symmetric=True)\n",
    "    qubo_linearity = qubo.objective.linear.to_array()\n",
    "\n",
    "    qaoa_circuit = QuantumCircuit(size,size)\n",
    "    #Aplicamos la primer capa de compuertas H a todos los cubits\n",
    "    qaoa_circuit.h(range(size))\n",
    "\n",
    "    #Creamos los parametros del circuito\n",
    "    gammas = ParameterVector('gamma', p)\n",
    "    betas = ParameterVector('beta', p)\n",
    "\n",
    "    #Outer loop to create each layer\n",
    "    for i in range(p):\n",
    "        for j in range(size):\n",
    "            ro = 0\n",
    "            for k in range(size):\n",
    "                ro=ro+qubo_matrix[j,k]\n",
    "            #Aplicar las compuertas rotacionales R_Z de la funcion de costo\n",
    "            #INSERTA TU CODIGO AQUI\n",
    "        for j in range(size):\n",
    "            for k in range(size):\n",
    "                if k!=j:\n",
    "                    # Aplicar las compuertas R_ZZ rotacionales\n",
    "                    # INSERTA TU CODIGO AQUI\n",
    "        for j in range(size):\n",
    "            # Aplicar las compuertas X con angulo 2*beta_i a todos los cubits\n",
    "            # INSERTA TU CODIGO AQUI\n",
    "            qaoa_circuit.rx(2*betas[i], j)\n",
    "\n",
    "    return qaoa_circuit"
   ],
   "outputs": [
    {
     "output_type": "error",
     "ename": "IndentationError",
     "evalue": "expected an indented block (<ipython-input-7-2cdaf59758d6>, line 36)",
     "traceback": [
      "\u001b[0;36m  File \u001b[0;32m\"<ipython-input-7-2cdaf59758d6>\"\u001b[0;36m, line \u001b[0;32m36\u001b[0m\n\u001b[0;31m    for j in range(size):\u001b[0m\n\u001b[0m    ^\u001b[0m\n\u001b[0;31mIndentationError\u001b[0m\u001b[0;31m:\u001b[0m expected an indented block\n"
     ]
    }
   ],
   "metadata": {}
  },
  {
   "cell_type": "markdown",
   "source": [
    "Una vez terminado el codigo, lo puedes probar corriendo los comandos que siguen"
   ],
   "metadata": {}
  },
  {
   "cell_type": "code",
   "execution_count": null,
   "source": [
    "quadratic_program = quadratic_program_from_graph(graphs['custom'])\n",
    "custom_circuit = qaoa_circuit(qubo = quadratic_program)"
   ],
   "outputs": [],
   "metadata": {}
  },
  {
   "cell_type": "code",
   "execution_count": null,
   "source": [
    "test = custom_circuit.assign_parameters(parameters=[1.0]*len(custom_circuit.parameters))"
   ],
   "outputs": [],
   "metadata": {}
  }
 ],
 "metadata": {
  "orig_nbformat": 4,
  "language_info": {
   "name": "python",
   "version": "3.8.8",
   "mimetype": "text/x-python",
   "codemirror_mode": {
    "name": "ipython",
    "version": 3
   },
   "pygments_lexer": "ipython3",
   "nbconvert_exporter": "python",
   "file_extension": ".py"
  },
  "kernelspec": {
   "name": "python3",
   "display_name": "Python 3.8.8 64-bit ('base': conda)"
  },
  "interpreter": {
   "hash": "dca0ade3e726a953b501b15e8e990130d2b7799f14cfd9f4271676035ebe5511"
  }
 },
 "nbformat": 4,
 "nbformat_minor": 2
}